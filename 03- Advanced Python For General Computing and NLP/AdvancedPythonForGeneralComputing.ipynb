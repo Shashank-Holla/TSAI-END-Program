{
  "nbformat": 4,
  "nbformat_minor": 0,
  "metadata": {
    "colab": {
      "name": "AdvancedPythonForGeneralComputing.ipynb",
      "provenance": [],
      "collapsed_sections": [],
      "authorship_tag": "ABX9TyMe9Jfo2qbAYupTrxMYdesx",
      "include_colab_link": true
    },
    "kernelspec": {
      "name": "python3",
      "display_name": "Python 3"
    }
  },
  "cells": [
    {
      "cell_type": "markdown",
      "metadata": {
        "id": "view-in-github",
        "colab_type": "text"
      },
      "source": [
        "<a href=\"https://colab.research.google.com/github/Shashank-Holla/TSAI-END-Program/blob/main/03-%20Advanced%20Python%20For%20General%20Computing%20and%20NLP/AdvancedPythonForGeneralComputing.ipynb\" target=\"_parent\"><img src=\"https://colab.research.google.com/assets/colab-badge.svg\" alt=\"Open In Colab\"/></a>"
      ]
    },
    {
      "cell_type": "code",
      "metadata": {
        "id": "mEqeqOdeIcKO"
      },
      "source": [
        "import math\n",
        "import string\n",
        "from functools import reduce\n",
        "from random import randint, choice"
      ],
      "execution_count": 1,
      "outputs": []
    },
    {
      "cell_type": "markdown",
      "metadata": {
        "id": "qDeK0cDvKGz0"
      },
      "source": [
        "### 1. Write a function using only list filter lambda that can tell whether a number is a Fibonacci number or not. You can use a pre-calculated list/dict to store fab numbers till 10000\n",
        "\n",
        "A given sequence is checked if its a Fibonacci number or not based at least one of 5x^2 + 4 or 5x^2-4 is a perfect square or not.\n",
        "\n",
        "Ref- https://en.wikipedia.org/wiki/Fibonacci_number#Identification"
      ]
    },
    {
      "cell_type": "code",
      "metadata": {
        "id": "zxJ-R0EHKRse",
        "outputId": "908833fd-c81d-4bf4-a638-5854c0a3add4",
        "colab": {
          "base_uri": "https://localhost:8080/"
        }
      },
      "source": [
        "fib = list(filter(lambda n:math.sqrt(5*n**2+4).is_integer() or math.sqrt(5*n**2-4).is_integer(), [0,1,2,3,4,5,6,7,8,9,10,11,12,13,20,21,33,34]))\n",
        "fib"
      ],
      "execution_count": 2,
      "outputs": [
        {
          "output_type": "execute_result",
          "data": {
            "text/plain": [
              "[0, 1, 2, 3, 5, 8, 13, 21, 34]"
            ]
          },
          "metadata": {
            "tags": []
          },
          "execution_count": 2
        }
      ]
    },
    {
      "cell_type": "code",
      "metadata": {
        "id": "aGXwAZTPMrLL",
        "outputId": "e613b991-1e55-4a19-da01-a9b3cdf0337f",
        "colab": {
          "base_uri": "https://localhost:8080/"
        }
      },
      "source": [
        "fib = list(map(lambda n:True if math.sqrt(5*n**2+4).is_integer() or math.sqrt(5*n**2-4).is_integer() else False, [0,1,2,3,4,5,6,7,8,9,10,11,12,13,20,21,33,34]))\n",
        "print(fib)"
      ],
      "execution_count": 5,
      "outputs": [
        {
          "output_type": "stream",
          "text": [
            "[True, True, True, True, False, True, False, False, True, False, False, False, False, True, False, True, False, True]\n"
          ],
          "name": "stdout"
        }
      ]
    },
    {
      "cell_type": "markdown",
      "metadata": {
        "id": "IQl5i5cGQo4k"
      },
      "source": [
        "### 2. Using list comprehension (and zip/lambda/etc if required) write five different expressions that"
      ]
    },
    {
      "cell_type": "markdown",
      "metadata": {
        "id": "9Bzow_3-Qqdy"
      },
      "source": [
        "#### add 2 iterables a and b such that a is even and b is odd"
      ]
    },
    {
      "cell_type": "code",
      "metadata": {
        "id": "bcAURte2Qua6",
        "outputId": "f4052d4c-47fc-44d5-d35b-9a18d5067860",
        "colab": {
          "base_uri": "https://localhost:8080/"
        }
      },
      "source": [
        "# Solution 1\n",
        "add_a_b = list(map(lambda x,y:x+y, filter(lambda x: x%2==0, range(10)), filter(lambda y: y%2!=0, range(10))))\n",
        "add_a_b"
      ],
      "execution_count": 6,
      "outputs": [
        {
          "output_type": "execute_result",
          "data": {
            "text/plain": [
              "[1, 5, 9, 13, 17]"
            ]
          },
          "metadata": {
            "tags": []
          },
          "execution_count": 6
        }
      ]
    },
    {
      "cell_type": "code",
      "metadata": {
        "id": "iUeq0QFGRTcp",
        "outputId": "36b53587-8c47-489e-d113-4257a747dbf7",
        "colab": {
          "base_uri": "https://localhost:8080/"
        }
      },
      "source": [
        "# Solution 2\n",
        "a_add_b = list(map(lambda a,b: a+b, [ai for ai in range(10) if ai % 2 ==0], [bi for bi in range(10) if bi%2!=0] ))\n",
        "a_add_b"
      ],
      "execution_count": 7,
      "outputs": [
        {
          "output_type": "execute_result",
          "data": {
            "text/plain": [
              "[1, 5, 9, 13, 17]"
            ]
          },
          "metadata": {
            "tags": []
          },
          "execution_count": 7
        }
      ]
    },
    {
      "cell_type": "markdown",
      "metadata": {
        "id": "GHvi6-RjRrBC"
      },
      "source": [
        "#### strips every vowel from a string provided (tsai>>t s)"
      ]
    },
    {
      "cell_type": "code",
      "metadata": {
        "id": "qHa_jZCdRvTb",
        "outputId": "64759434-96ed-4218-e527-f7d8e48f5268",
        "colab": {
          "base_uri": "https://localhost:8080/"
        }
      },
      "source": [
        "vowel_stripper = [x for x in filter(lambda x: x not in ['a','e','i','o','u'],'tsai')]\n",
        "vowel_stripper"
      ],
      "execution_count": 8,
      "outputs": [
        {
          "output_type": "execute_result",
          "data": {
            "text/plain": [
              "['t', 's']"
            ]
          },
          "metadata": {
            "tags": []
          },
          "execution_count": 8
        }
      ]
    },
    {
      "cell_type": "markdown",
      "metadata": {
        "id": "wHQoF3OHSAwp"
      },
      "source": [
        "#### acts like a ReLU function for a 1D array"
      ]
    },
    {
      "cell_type": "code",
      "metadata": {
        "id": "B9mLw0MISCfr",
        "outputId": "d3285535-eef0-4d7c-9be7-4b4be2f1c9fe",
        "colab": {
          "base_uri": "https://localhost:8080/"
        }
      },
      "source": [
        "relu = [i for i in map(lambda i: i if i>0 else 0, [-1,4,5,6,7,8,0,-3,-6,1])]\n",
        "relu"
      ],
      "execution_count": 9,
      "outputs": [
        {
          "output_type": "execute_result",
          "data": {
            "text/plain": [
              "[0, 4, 5, 6, 7, 8, 0, 0, 0, 1]"
            ]
          },
          "metadata": {
            "tags": []
          },
          "execution_count": 9
        }
      ]
    },
    {
      "cell_type": "markdown",
      "metadata": {
        "id": "zG2K9eTPSPDU"
      },
      "source": [
        "#### acts like a sigmoid function for a 1D array"
      ]
    },
    {
      "cell_type": "code",
      "metadata": {
        "id": "4n_SFUMESP8D",
        "outputId": "2b8b1feb-f266-4758-d43b-1535ad9255e1",
        "colab": {
          "base_uri": "https://localhost:8080/"
        }
      },
      "source": [
        "sigmoid = [i for i in map(lambda i: 1/(1 + math.exp(-i)), [-1,4,5,6,7,8,0,-3,-6,1])]\n",
        "print(sigmoid)"
      ],
      "execution_count": 10,
      "outputs": [
        {
          "output_type": "stream",
          "text": [
            "[0.2689414213699951, 0.9820137900379085, 0.9933071490757153, 0.9975273768433653, 0.9990889488055994, 0.9996646498695336, 0.5, 0.04742587317756678, 0.0024726231566347743, 0.7310585786300049]\n"
          ],
          "name": "stdout"
        }
      ]
    },
    {
      "cell_type": "markdown",
      "metadata": {
        "id": "GL0wrJxySYCx"
      },
      "source": [
        "#### takes a small character string and shifts all characters by 5 (handle boundary conditions) tsai>>yxfn"
      ]
    },
    {
      "cell_type": "code",
      "metadata": {
        "id": "IV0oSpUnSZBU",
        "outputId": "70d3d4e0-bc58-447a-a379-8ba1bfe4299e",
        "colab": {
          "base_uri": "https://localhost:8080/"
        }
      },
      "source": [
        "alphabets = list(string.ascii_lowercase)\n",
        "print(alphabets)\n",
        "ad = list('tsai'.lower())\n",
        "\n",
        "new_name = [alphabets[(i+5) % 26] for i in map(lambda alpha: alphabets.index(alpha),ad)]\n",
        "print(ad,\"-->\",new_name)"
      ],
      "execution_count": 11,
      "outputs": [
        {
          "output_type": "stream",
          "text": [
            "['a', 'b', 'c', 'd', 'e', 'f', 'g', 'h', 'i', 'j', 'k', 'l', 'm', 'n', 'o', 'p', 'q', 'r', 's', 't', 'u', 'v', 'w', 'x', 'y', 'z']\n",
            "['t', 's', 'a', 'i'] --> ['y', 'x', 'f', 'n']\n"
          ],
          "name": "stdout"
        }
      ]
    },
    {
      "cell_type": "markdown",
      "metadata": {
        "id": "RzrbPyfjSliZ"
      },
      "source": [
        "### 3. A list comprehension expression that takes a ~200 word paragraph (write your own paragraph to check), and checks whether it has any of the swear words mentioned in https://github.com/RobertJGabriel/Google-profanity-words/blob/master/list.txt PTS:200"
      ]
    },
    {
      "cell_type": "code",
      "metadata": {
        "id": "QWKubj_-Smdr",
        "outputId": "9fca8e04-2142-4c87-a96a-1cb24be4bd3a",
        "colab": {
          "base_uri": "https://localhost:8080/"
        }
      },
      "source": [
        "# Get the list of swear words\n",
        "!wget https://raw.githubusercontent.com/RobertJGabriel/Google-profanity-words/master/list.txt\n",
        "\n",
        "#https://unix.stackexchange.com/questions/228412/how-to-wget-a-github-file/387912#387912"
      ],
      "execution_count": 12,
      "outputs": [
        {
          "output_type": "stream",
          "text": [
            "--2020-11-05 12:04:10--  https://raw.githubusercontent.com/RobertJGabriel/Google-profanity-words/master/list.txt\n",
            "Resolving raw.githubusercontent.com (raw.githubusercontent.com)... 151.101.0.133, 151.101.64.133, 151.101.128.133, ...\n",
            "Connecting to raw.githubusercontent.com (raw.githubusercontent.com)|151.101.0.133|:443... connected.\n",
            "HTTP request sent, awaiting response... 200 OK\n",
            "Length: 3622 (3.5K) [text/plain]\n",
            "Saving to: ‘list.txt’\n",
            "\n",
            "\rlist.txt              0%[                    ]       0  --.-KB/s               \rlist.txt            100%[===================>]   3.54K  --.-KB/s    in 0s      \n",
            "\n",
            "2020-11-05 12:04:10 (48.0 MB/s) - ‘list.txt’ saved [3622/3622]\n",
            "\n"
          ],
          "name": "stdout"
        }
      ]
    },
    {
      "cell_type": "code",
      "metadata": {
        "id": "btxhKRDWSvih",
        "outputId": "e969f0ed-cc68-490e-9c02-cd8ddea76328",
        "colab": {
          "base_uri": "https://localhost:8080/"
        }
      },
      "source": [
        "with open('list.txt') as f:\n",
        "    words = f.read()\n",
        "swear_words = words.lower().split('\\n')\n",
        "print(f\"Number of words: {len(swear_words)}\")\n",
        "print(swear_words[:10])"
      ],
      "execution_count": 13,
      "outputs": [
        {
          "output_type": "stream",
          "text": [
            "Number of words: 452\n",
            "['4r5e', '5h1t', '5hit', 'a55', 'anal', 'anus', 'ar5e', 'arrse', 'arse', 'ass']\n"
          ],
          "name": "stdout"
        }
      ]
    },
    {
      "cell_type": "code",
      "metadata": {
        "id": "we-pemcmS-30",
        "outputId": "8cb5ac12-d2e6-475b-a5f8-b2b39ceb9f8c",
        "colab": {
          "base_uri": "https://localhost:8080/"
        }
      },
      "source": [
        "swearatron = \"For every profane holy, fucking, and shit, there’s a technical and anodyne liturgical, copulation, or excretion. For every cock, there’s a childlike wee-wee. Many words describing sexual organs, excretory functions, and so on fail to rise to the heights (or, if you prefer, sink to the depths) of profanity. The most obvious possibility is that some aspect of how profane words are written or sound makes them vulgar. For example, many English profane words famously have four letters—fuck, shit, piss, cock, tits, and many others. Take a list of eighty-four commonly used swear words. Of the eighty-four words, twenty-nine are spelled with four letters. By this count, then, just over a third of profane words are four-letter words. This number may be artificially deflated, since many of the longer words (like asshole, motherfucker, and wanker) have shorter four-letter words embedded inside them. But it’s a good start. Do you notice any general trend in how these words are pronounced? First, regardless of how many letters they’re spelled with, they tend to be pronounced with just one syllable. When you pronounce bitch and shit normally, they’re only one syllable long. Just a few words on the list have more than one syllable: anal, anus, homo, Paki, and, arguably, jism.\"\n",
        "swearatron = swearatron.lower().replace(',','').split()\n",
        "print(f\"Number of words: {len(swearatron)}\")\n",
        "print(swearatron[:10])"
      ],
      "execution_count": 14,
      "outputs": [
        {
          "output_type": "stream",
          "text": [
            "Number of words: 208\n",
            "['for', 'every', 'profane', 'holy', 'fucking', 'and', 'shit', 'there’s', 'a', 'technical']\n"
          ],
          "name": "stdout"
        }
      ]
    },
    {
      "cell_type": "code",
      "metadata": {
        "id": "R1tL4DyQTGyD",
        "outputId": "a941f04a-12cc-402e-bbc3-4a09dea84fb4",
        "colab": {
          "base_uri": "https://localhost:8080/"
        }
      },
      "source": [
        "# To check whether any swear words are present. True if its present, False otherwise.\n",
        "swear_status = list(map(lambda w: True if w in swear_words else False, swearatron))\n",
        "print(swear_status[:10])\n",
        "print(bool(swear_status))"
      ],
      "execution_count": 19,
      "outputs": [
        {
          "output_type": "stream",
          "text": [
            "[False, False, False, False, True, False, True, False, False, False]\n",
            "True\n"
          ],
          "name": "stdout"
        }
      ]
    },
    {
      "cell_type": "code",
      "metadata": {
        "id": "elzjfm7JVj3E",
        "outputId": "9b58f140-4326-4002-b0ce-cb1e2914ea32",
        "colab": {
          "base_uri": "https://localhost:8080/"
        }
      },
      "source": [
        "# Show status of each word if its present in swear list or not.\n",
        "swear_group = list(zip(swearatron, list(map(lambda w: True if w in swear_words else False, swearatron))))\n",
        "print(swear_group[:10])"
      ],
      "execution_count": 24,
      "outputs": [
        {
          "output_type": "stream",
          "text": [
            "[('for', False), ('every', False), ('profane', False), ('holy', False), ('fucking', True), ('and', False), ('shit', True), ('there’s', False), ('a', False), ('technical', False)]\n"
          ],
          "name": "stdout"
        }
      ]
    },
    {
      "cell_type": "code",
      "metadata": {
        "id": "C4_GK7W5TOyb",
        "outputId": "69341a12-4d60-4ada-d7f3-55ce583c6cf8",
        "colab": {
          "base_uri": "https://localhost:8080/"
        }
      },
      "source": [
        "clean_words = [w for w in filter(lambda w: w not in swear_words, swearatron)]\n",
        "clean_words\n",
        "print(len(clean_words))\n",
        "print(clean_words[:10])"
      ],
      "execution_count": 15,
      "outputs": [
        {
          "output_type": "stream",
          "text": [
            "194\n",
            "['for', 'every', 'profane', 'holy', 'and', 'there’s', 'a', 'technical', 'and', 'anodyne']\n"
          ],
          "name": "stdout"
        }
      ]
    },
    {
      "cell_type": "markdown",
      "metadata": {
        "id": "Q73_H9tpWOgE"
      },
      "source": [
        "### 4. Using reduce functions"
      ]
    },
    {
      "cell_type": "markdown",
      "metadata": {
        "id": "S2qQ7sg5WRXh"
      },
      "source": [
        "#### add only even numbers in a list"
      ]
    },
    {
      "cell_type": "code",
      "metadata": {
        "id": "uFdIrl92Xl3b",
        "outputId": "0c8dd210-e7f0-47ff-c098-47a70c2fa61f",
        "colab": {
          "base_uri": "https://localhost:8080/"
        }
      },
      "source": [
        "list(filter(lambda x: x%2==0, [randint(1,9) for i in range(20)]))"
      ],
      "execution_count": 28,
      "outputs": [
        {
          "output_type": "execute_result",
          "data": {
            "text/plain": [
              "[2, 8, 8, 4, 8, 4, 6, 2]"
            ]
          },
          "metadata": {
            "tags": []
          },
          "execution_count": 28
        }
      ]
    },
    {
      "cell_type": "code",
      "metadata": {
        "id": "h5pXaSyNWUxa",
        "outputId": "df7eba61-8ada-4e13-a5aa-058bf522d8d5",
        "colab": {
          "base_uri": "https://localhost:8080/"
        }
      },
      "source": [
        "sum_of_even = reduce(lambda a,b: a+b, list(filter(lambda x: x%2==0, [randint(1,9) for i in range(20)])))\n",
        "sum_of_even"
      ],
      "execution_count": 29,
      "outputs": [
        {
          "output_type": "execute_result",
          "data": {
            "text/plain": [
              "40"
            ]
          },
          "metadata": {
            "tags": []
          },
          "execution_count": 29
        }
      ]
    },
    {
      "cell_type": "markdown",
      "metadata": {
        "id": "t52Q2ittYej8"
      },
      "source": [
        "#### find the biggest character in a string (printable ascii characters)"
      ]
    },
    {
      "cell_type": "code",
      "metadata": {
        "id": "rw_lTmcUYhAT",
        "outputId": "57c52766-83e7-48e5-bd63-5e5c74257012",
        "colab": {
          "base_uri": "https://localhost:8080/"
        }
      },
      "source": [
        "char_string = list(\"#From {Darkside} of the Moon$\")\n",
        "print(char_string)"
      ],
      "execution_count": 30,
      "outputs": [
        {
          "output_type": "stream",
          "text": [
            "['#', 'F', 'r', 'o', 'm', ' ', '{', 'D', 'a', 'r', 'k', 's', 'i', 'd', 'e', '}', ' ', 'o', 'f', ' ', 't', 'h', 'e', ' ', 'M', 'o', 'o', 'n', '$']\n"
          ],
          "name": "stdout"
        }
      ]
    },
    {
      "cell_type": "code",
      "metadata": {
        "id": "LZ8s2x1uYlvr",
        "outputId": "5854393f-133d-4ccb-df6a-cf1fc0baa78d",
        "colab": {
          "base_uri": "https://localhost:8080/",
          "height": 35
        }
      },
      "source": [
        "big_character = reduce(lambda x, y: x if ord(x) > ord(y) else y, char_string)\n",
        "big_character"
      ],
      "execution_count": 31,
      "outputs": [
        {
          "output_type": "execute_result",
          "data": {
            "application/vnd.google.colaboratory.intrinsic+json": {
              "type": "string"
            },
            "text/plain": [
              "'}'"
            ]
          },
          "metadata": {
            "tags": []
          },
          "execution_count": 31
        }
      ]
    },
    {
      "cell_type": "markdown",
      "metadata": {
        "id": "B8q7LodXYrYS"
      },
      "source": [
        "#### adds every 3rd number in a list"
      ]
    },
    {
      "cell_type": "code",
      "metadata": {
        "id": "bR-ZAifPYs7z",
        "outputId": "607371dd-8880-4cd6-a4a7-43bfe5f0667e",
        "colab": {
          "base_uri": "https://localhost:8080/"
        }
      },
      "source": [
        "num_list = [randint(1,9) for i in range(1,20)]\n",
        "print(len(num_list))\n",
        "num_list"
      ],
      "execution_count": 33,
      "outputs": [
        {
          "output_type": "stream",
          "text": [
            "19\n"
          ],
          "name": "stdout"
        },
        {
          "output_type": "execute_result",
          "data": {
            "text/plain": [
              "[1, 7, 7, 1, 2, 1, 7, 1, 5, 8, 6, 7, 9, 8, 8, 4, 1, 6, 3]"
            ]
          },
          "metadata": {
            "tags": []
          },
          "execution_count": 33
        }
      ]
    },
    {
      "cell_type": "code",
      "metadata": {
        "id": "-U77RwT9Y9o7",
        "outputId": "f2114be1-90d9-43f0-b1fd-73fac3d2fd4b",
        "colab": {
          "base_uri": "https://localhost:8080/"
        }
      },
      "source": [
        "sum_every_3 = reduce(lambda x,y : x+y, [num_list[i] for i in range(len(num_list)) if (i+1)%3==0])\n",
        "sum_every_3"
      ],
      "execution_count": 34,
      "outputs": [
        {
          "output_type": "execute_result",
          "data": {
            "text/plain": [
              "34"
            ]
          },
          "metadata": {
            "tags": []
          },
          "execution_count": 34
        }
      ]
    },
    {
      "cell_type": "markdown",
      "metadata": {
        "id": "kwFEZbI5ZQRC"
      },
      "source": [
        "### Using randint, random.choice and list comprehensions, write an expression that generates 15 random KADDAADDDD number plates, where KA is fixed, D stands for a digit, and A stands for Capital alphabets. 10<<DD<<99 & 1000<<DDDD<<9999"
      ]
    },
    {
      "cell_type": "code",
      "metadata": {
        "id": "qjcGZpNWZUjq",
        "outputId": "44dd4eb7-58fc-4e78-f567-24fc3fd040ed",
        "colab": {
          "base_uri": "https://localhost:8080/",
          "height": 35
        }
      },
      "source": [
        "choice(string.ascii_uppercase)+choice(string.ascii_uppercase)"
      ],
      "execution_count": 35,
      "outputs": [
        {
          "output_type": "execute_result",
          "data": {
            "application/vnd.google.colaboratory.intrinsic+json": {
              "type": "string"
            },
            "text/plain": [
              "'UJ'"
            ]
          },
          "metadata": {
            "tags": []
          },
          "execution_count": 35
        }
      ]
    },
    {
      "cell_type": "code",
      "metadata": {
        "id": "p9WCr0TBZXjM",
        "outputId": "2d648548-2eb2-4bd9-d806-a8ec2917cd8c",
        "colab": {
          "base_uri": "https://localhost:8080/"
        }
      },
      "source": [
        "number_plates = ['KA'+str(randint(10,99))+choice(string.ascii_uppercase)+choice(string.ascii_uppercase)+str(randint(1000,9999)) for i in range(15)]\n",
        "number_plates"
      ],
      "execution_count": 36,
      "outputs": [
        {
          "output_type": "execute_result",
          "data": {
            "text/plain": [
              "['KA57FX9894',\n",
              " 'KA72VJ3654',\n",
              " 'KA77IZ8424',\n",
              " 'KA93BR2505',\n",
              " 'KA77GL3812',\n",
              " 'KA14TW7485',\n",
              " 'KA79OC5360',\n",
              " 'KA51OI6811',\n",
              " 'KA42UD1443',\n",
              " 'KA17XP4549',\n",
              " 'KA89TE8641',\n",
              " 'KA38PN9449',\n",
              " 'KA28AQ9624',\n",
              " 'KA70DY1636',\n",
              " 'KA67PW4333']"
            ]
          },
          "metadata": {
            "tags": []
          },
          "execution_count": 36
        }
      ]
    },
    {
      "cell_type": "markdown",
      "metadata": {
        "id": "PKHUZ6UuZoai"
      },
      "source": [
        "### Write the above again from scratch where KA can be changed to DL, and 1000/9999 ranges can be provided."
      ]
    },
    {
      "cell_type": "code",
      "metadata": {
        "id": "q7fck9ZRZpgC",
        "outputId": "08f6279f-ff0e-45e4-e7bd-f72b3de45a56",
        "colab": {
          "base_uri": "https://localhost:8080/"
        }
      },
      "source": [
        "lower_limit = int(input(\"Enter lower boundary value in DDDD format: \"))\n",
        "upper_limit = int(input(\"Enter Upper boundary value in DDDD format: \"))"
      ],
      "execution_count": 39,
      "outputs": [
        {
          "output_type": "stream",
          "text": [
            "Enter lower boundary value in DDDD format: 1212\n",
            "Enter Upper boundary value in DDDD format: 9889\n"
          ],
          "name": "stdout"
        }
      ]
    },
    {
      "cell_type": "code",
      "metadata": {
        "id": "fgjLiUfvZy06",
        "outputId": "e1081ed9-2427-44ba-beaf-3fba1b615494",
        "colab": {
          "base_uri": "https://localhost:8080/"
        }
      },
      "source": [
        "number_plates = [choice(('KA','DL'))+str(randint(10,99))+choice(string.ascii_uppercase)+choice(string.ascii_uppercase)+str(randint(lower_limit,upper_limit)) for i in range(15)]\n",
        "number_plates"
      ],
      "execution_count": 40,
      "outputs": [
        {
          "output_type": "execute_result",
          "data": {
            "text/plain": [
              "['DL95WZ3762',\n",
              " 'DL96MN9799',\n",
              " 'KA47JL4538',\n",
              " 'DL91PV3089',\n",
              " 'KA16QA4624',\n",
              " 'KA91ZN7781',\n",
              " 'DL44BN7143',\n",
              " 'KA36RA3696',\n",
              " 'KA18MG5905',\n",
              " 'DL50TF7106',\n",
              " 'KA34YU9638',\n",
              " 'DL24NW6882',\n",
              " 'KA99VG8020',\n",
              " 'KA36SU2085',\n",
              " 'DL38SB4241']"
            ]
          },
          "metadata": {
            "tags": []
          },
          "execution_count": 40
        }
      ]
    }
  ]
}