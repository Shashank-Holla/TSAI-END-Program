{
  "nbformat": 4,
  "nbformat_minor": 0,
  "metadata": {
    "colab": {
      "name": "AttentionTransformer_Chatbot.ipynb",
      "provenance": [],
      "collapsed_sections": [],
      "toc_visible": true,
      "authorship_tag": "ABX9TyMPnwwqkKOKyt2yQZk4W49+",
      "include_colab_link": true
    },
    "kernelspec": {
      "name": "python3",
      "display_name": "Python 3"
    }
  },
  "cells": [
    {
      "cell_type": "markdown",
      "metadata": {
        "id": "view-in-github",
        "colab_type": "text"
      },
      "source": [
        "<a href=\"https://colab.research.google.com/github/Shashank-Holla/TSAI-END-Program/blob/main/13-%20Attention/AttentionTransformer_Chatbot.ipynb\" target=\"_parent\"><img src=\"https://colab.research.google.com/assets/colab-badge.svg\" alt=\"Open In Colab\"/></a>"
      ]
    },
    {
      "cell_type": "markdown",
      "metadata": {
        "id": "uuCo3Sbqqvhp"
      },
      "source": [
        "# Attention Transformer model for Chatbot"
      ]
    },
    {
      "cell_type": "markdown",
      "metadata": {
        "id": "QKhOE0knq23A"
      },
      "source": [
        "## Dataset\r\n",
        "\r\n",
        "Cornell Movie--Dialogs Corpus contains a large metadata-rich collection of fictional conversations extracted from raw movie scripts:\r\n",
        "\r\n",
        "\r\n",
        "\r\n",
        "- 220,579 conversational exchanges between 10,292 pairs of movie characters\r\n",
        "\r\n",
        "- involves 9,035 characters from 617 movies\r\n",
        "\r\n",
        "- in total 304,713 utterances\r\n",
        "\r\n",
        "- movie metadata included:\r\n",
        "\r\n",
        "    - genres\r\n",
        "\r\n",
        "    - release year\r\n",
        "\r\n",
        "    - IMDB rating\r\n",
        "\r\n",
        "    - number of IMDB votes\r\n",
        "\r\n",
        "    - IMDB rating\r\n",
        "\r\n",
        "- character metadata included:\r\n",
        "\r\n",
        "    - gender (for 3,774 characters)\r\n",
        "\r\n",
        "    - position on movie credits (3,321 characters)"
      ]
    },
    {
      "cell_type": "markdown",
      "metadata": {
        "id": "rcwBgEyICAw4"
      },
      "source": [
        "### Loading and preprocessing"
      ]
    },
    {
      "cell_type": "code",
      "metadata": {
        "colab": {
          "base_uri": "https://localhost:8080/"
        },
        "id": "0sk2Xyjsqjm4",
        "outputId": "9bbe5a38-f008-49dc-c79c-0b48664970ad"
      },
      "source": [
        "!wget 'http://www.cs.cornell.edu/~cristian/data/cornell_movie_dialogs_corpus.zip'"
      ],
      "execution_count": 1,
      "outputs": [
        {
          "output_type": "stream",
          "text": [
            "--2021-02-25 19:03:07--  http://www.cs.cornell.edu/~cristian/data/cornell_movie_dialogs_corpus.zip\n",
            "Resolving www.cs.cornell.edu (www.cs.cornell.edu)... 132.236.207.36\n",
            "Connecting to www.cs.cornell.edu (www.cs.cornell.edu)|132.236.207.36|:80... connected.\n",
            "HTTP request sent, awaiting response... 200 OK\n",
            "Length: 9916637 (9.5M) [application/zip]\n",
            "Saving to: ‘cornell_movie_dialogs_corpus.zip’\n",
            "\n",
            "cornell_movie_dialo 100%[===================>]   9.46M  10.6MB/s    in 0.9s    \n",
            "\n",
            "2021-02-25 19:03:08 (10.6 MB/s) - ‘cornell_movie_dialogs_corpus.zip’ saved [9916637/9916637]\n",
            "\n"
          ],
          "name": "stdout"
        }
      ]
    },
    {
      "cell_type": "code",
      "metadata": {
        "id": "J8Hf67vZrb23"
      },
      "source": [
        " # Keep corpus data in data directory\r\n",
        "!mkdir data"
      ],
      "execution_count": 2,
      "outputs": []
    },
    {
      "cell_type": "code",
      "metadata": {
        "id": "0rye8cAvrl-K"
      },
      "source": [
        "!unzip -q /content/cornell_movie_dialogs_corpus.zip -d /content/data/"
      ],
      "execution_count": 3,
      "outputs": []
    },
    {
      "cell_type": "code",
      "metadata": {
        "id": "Fshk7tztsiSC",
        "colab": {
          "base_uri": "https://localhost:8080/"
        },
        "outputId": "9145ff19-1711-4d27-a2ec-d41d5948fbf7"
      },
      "source": [
        "from __future__ import absolute_import\r\n",
        "from __future__ import division\r\n",
        "from __future__ import print_function\r\n",
        "from __future__ import unicode_literals\r\n",
        "\r\n",
        "import torch\r\n",
        "from torch.jit import script, trace\r\n",
        "import torch.nn as nn\r\n",
        "from torch import optim\r\n",
        "import torch.nn.functional as F\r\n",
        "import csv\r\n",
        "import random\r\n",
        "import re\r\n",
        "import os\r\n",
        "import unicodedata\r\n",
        "import codecs\r\n",
        "from io import open\r\n",
        "import itertools\r\n",
        "import math\r\n",
        "\r\n",
        "\r\n",
        "USE_CUDA = torch.cuda.is_available()\r\n",
        "device = torch.device(\"cuda\" if USE_CUDA else \"cpu\")\r\n",
        "device"
      ],
      "execution_count": 4,
      "outputs": [
        {
          "output_type": "execute_result",
          "data": {
            "text/plain": [
              "device(type='cpu')"
            ]
          },
          "metadata": {
            "tags": []
          },
          "execution_count": 4
        }
      ]
    },
    {
      "cell_type": "code",
      "metadata": {
        "id": "gYBjFTKPtFSS",
        "colab": {
          "base_uri": "https://localhost:8080/"
        },
        "outputId": "83b99689-9e0c-4e43-dd6b-3c8b000fa5f3"
      },
      "source": [
        "corpus_name = \"cornell movie-dialogs corpus\"\r\n",
        "corpus = os.path.join(\"data\", corpus_name)\r\n",
        "\r\n",
        "# Open file in read-binary mode\r\n",
        "def printLines(file, n=25):\r\n",
        "    with open(file, 'rb') as datafile:\r\n",
        "        lines = datafile.readlines()\r\n",
        "    for line in lines[:n]:\r\n",
        "        print(line)\r\n",
        "\r\n",
        "printLines(os.path.join(corpus, \"movie_lines.txt\"), 10)"
      ],
      "execution_count": 5,
      "outputs": [
        {
          "output_type": "stream",
          "text": [
            "b'L1045 +++$+++ u0 +++$+++ m0 +++$+++ BIANCA +++$+++ They do not!\\n'\n",
            "b'L1044 +++$+++ u2 +++$+++ m0 +++$+++ CAMERON +++$+++ They do to!\\n'\n",
            "b'L985 +++$+++ u0 +++$+++ m0 +++$+++ BIANCA +++$+++ I hope so.\\n'\n",
            "b'L984 +++$+++ u2 +++$+++ m0 +++$+++ CAMERON +++$+++ She okay?\\n'\n",
            "b\"L925 +++$+++ u0 +++$+++ m0 +++$+++ BIANCA +++$+++ Let's go.\\n\"\n",
            "b'L924 +++$+++ u2 +++$+++ m0 +++$+++ CAMERON +++$+++ Wow\\n'\n",
            "b\"L872 +++$+++ u0 +++$+++ m0 +++$+++ BIANCA +++$+++ Okay -- you're gonna need to learn how to lie.\\n\"\n",
            "b'L871 +++$+++ u2 +++$+++ m0 +++$+++ CAMERON +++$+++ No\\n'\n",
            "b'L870 +++$+++ u0 +++$+++ m0 +++$+++ BIANCA +++$+++ I\\'m kidding.  You know how sometimes you just become this \"persona\"?  And you don\\'t know how to quit?\\n'\n",
            "b'L869 +++$+++ u0 +++$+++ m0 +++$+++ BIANCA +++$+++ Like my fear of wearing pastels?\\n'\n"
          ],
          "name": "stdout"
        }
      ]
    },
    {
      "cell_type": "code",
      "metadata": {
        "colab": {
          "base_uri": "https://localhost:8080/"
        },
        "id": "eFDPdokxCmML",
        "outputId": "e8a2e481-fdb8-493f-9fc5-3e3499da05c4"
      },
      "source": [
        "printLines(os.path.join(corpus, \"movie_conversations.txt\"), 10)"
      ],
      "execution_count": 6,
      "outputs": [
        {
          "output_type": "stream",
          "text": [
            "b\"u0 +++$+++ u2 +++$+++ m0 +++$+++ ['L194', 'L195', 'L196', 'L197']\\n\"\n",
            "b\"u0 +++$+++ u2 +++$+++ m0 +++$+++ ['L198', 'L199']\\n\"\n",
            "b\"u0 +++$+++ u2 +++$+++ m0 +++$+++ ['L200', 'L201', 'L202', 'L203']\\n\"\n",
            "b\"u0 +++$+++ u2 +++$+++ m0 +++$+++ ['L204', 'L205', 'L206']\\n\"\n",
            "b\"u0 +++$+++ u2 +++$+++ m0 +++$+++ ['L207', 'L208']\\n\"\n",
            "b\"u0 +++$+++ u2 +++$+++ m0 +++$+++ ['L271', 'L272', 'L273', 'L274', 'L275']\\n\"\n",
            "b\"u0 +++$+++ u2 +++$+++ m0 +++$+++ ['L276', 'L277']\\n\"\n",
            "b\"u0 +++$+++ u2 +++$+++ m0 +++$+++ ['L280', 'L281']\\n\"\n",
            "b\"u0 +++$+++ u2 +++$+++ m0 +++$+++ ['L363', 'L364']\\n\"\n",
            "b\"u0 +++$+++ u2 +++$+++ m0 +++$+++ ['L365', 'L366']\\n\"\n"
          ],
          "name": "stdout"
        }
      ]
    },
    {
      "cell_type": "code",
      "metadata": {
        "colab": {
          "base_uri": "https://localhost:8080/"
        },
        "id": "dz12ubb5DiKH",
        "outputId": "ab65bcc4-8263-4d33-8501-97769c0abde5"
      },
      "source": [
        "printLines(os.path.join(corpus, \"movie_titles_metadata.txt\"), 10)"
      ],
      "execution_count": 7,
      "outputs": [
        {
          "output_type": "stream",
          "text": [
            "b\"m0 +++$+++ 10 things i hate about you +++$+++ 1999 +++$+++ 6.90 +++$+++ 62847 +++$+++ ['comedy', 'romance']\\n\"\n",
            "b\"m1 +++$+++ 1492: conquest of paradise +++$+++ 1992 +++$+++ 6.20 +++$+++ 10421 +++$+++ ['adventure', 'biography', 'drama', 'history']\\n\"\n",
            "b\"m2 +++$+++ 15 minutes +++$+++ 2001 +++$+++ 6.10 +++$+++ 25854 +++$+++ ['action', 'crime', 'drama', 'thriller']\\n\"\n",
            "b\"m3 +++$+++ 2001: a space odyssey +++$+++ 1968 +++$+++ 8.40 +++$+++ 163227 +++$+++ ['adventure', 'mystery', 'sci-fi']\\n\"\n",
            "b\"m4 +++$+++ 48 hrs. +++$+++ 1982 +++$+++ 6.90 +++$+++ 22289 +++$+++ ['action', 'comedy', 'crime', 'drama', 'thriller']\\n\"\n",
            "b\"m5 +++$+++ the fifth element +++$+++ 1997 +++$+++ 7.50 +++$+++ 133756 +++$+++ ['action', 'adventure', 'romance', 'sci-fi', 'thriller']\\n\"\n",
            "b\"m6 +++$+++ 8mm +++$+++ 1999 +++$+++ 6.30 +++$+++ 48212 +++$+++ ['crime', 'mystery', 'thriller']\\n\"\n",
            "b\"m7 +++$+++ a nightmare on elm street 4: the dream master +++$+++ 1988 +++$+++ 5.20 +++$+++ 13590 +++$+++ ['fantasy', 'horror', 'thriller']\\n\"\n",
            "b\"m8 +++$+++ a nightmare on elm street: the dream child +++$+++ 1989 +++$+++ 4.70 +++$+++ 11092 +++$+++ ['fantasy', 'horror', 'thriller']\\n\"\n",
            "b\"m9 +++$+++ the atomic submarine +++$+++ 1959 +++$+++ 4.90 +++$+++ 513 +++$+++ ['sci-fi', 'thriller']\\n\"\n"
          ],
          "name": "stdout"
        }
      ]
    },
    {
      "cell_type": "code",
      "metadata": {
        "id": "R3HRHpFVtSHi"
      },
      "source": [
        "# Splits each line of the file into a dictionary of fields\r\n",
        "def loadLines(fileName, fields):\r\n",
        "    lines = {}\r\n",
        "    with open(fileName, 'r', encoding='iso-8859-1') as f:\r\n",
        "        for line in f:\r\n",
        "            values = line.split(\" +++$+++ \")\r\n",
        "            # Extract fields\r\n",
        "            lineObj = {}\r\n",
        "            for i, field in enumerate(fields):\r\n",
        "                lineObj[field] = values[i]\r\n",
        "            lines[lineObj['lineID']] = lineObj\r\n",
        "    return lines\r\n",
        "\r\n",
        "\r\n",
        "# Groups fields of lines from `loadLines` into conversations based on *movie_conversations.txt*\r\n",
        "def loadConversations(fileName, lines, fields):\r\n",
        "    conversations = []\r\n",
        "    with open(fileName, 'r', encoding='iso-8859-1') as f:\r\n",
        "        for line in f:\r\n",
        "            values = line.split(\" +++$+++ \")\r\n",
        "            # Extract fields\r\n",
        "            convObj = {}\r\n",
        "            for i, field in enumerate(fields):\r\n",
        "                convObj[field] = values[i]\r\n",
        "            # Convert string to list (convObj[\"utteranceIDs\"] == \"['L598485', 'L598486', ...]\")\r\n",
        "            utterance_id_pattern = re.compile('L[0-9]+')\r\n",
        "            lineIds = utterance_id_pattern.findall(convObj[\"utteranceIDs\"])\r\n",
        "            # Reassemble lines\r\n",
        "            convObj[\"lines\"] = []\r\n",
        "            for lineId in lineIds:\r\n",
        "                convObj[\"lines\"].append(lines[lineId])\r\n",
        "            conversations.append(convObj)\r\n",
        "    return conversations\r\n",
        "\r\n",
        "\r\n",
        "# Extracts pairs of sentences from conversations\r\n",
        "def extractSentencePairs(conversations):\r\n",
        "    qa_pairs = []\r\n",
        "    for conversation in conversations:\r\n",
        "        # Iterate over all the lines of the conversation\r\n",
        "        for i in range(len(conversation[\"lines\"]) - 1):  # We ignore the last line (no answer for it)\r\n",
        "            inputLine = conversation[\"lines\"][i][\"text\"].strip()\r\n",
        "            targetLine = conversation[\"lines\"][i+1][\"text\"].strip()\r\n",
        "            # Filter wrong samples (if one of the lists is empty)\r\n",
        "            if inputLine and targetLine:\r\n",
        "                qa_pairs.append([inputLine, targetLine])\r\n",
        "    return qa_pairs"
      ],
      "execution_count": 8,
      "outputs": []
    },
    {
      "cell_type": "code",
      "metadata": {
        "id": "zI4EhVbqtWC5",
        "colab": {
          "base_uri": "https://localhost:8080/"
        },
        "outputId": "8e4855e9-83b3-483e-f451-a59f7747255d"
      },
      "source": [
        "# Define path to new file\r\n",
        "datafile = os.path.join(corpus, \"formatted_movie_lines.txt\")\r\n",
        "\r\n",
        "delimiter = '\\t'\r\n",
        "# Unescape the delimiter\r\n",
        "delimiter = str(codecs.decode(delimiter, \"unicode_escape\"))\r\n",
        "\r\n",
        "# Initialize lines dict, conversations list, and field ids\r\n",
        "lines = {}\r\n",
        "conversations = []\r\n",
        "MOVIE_LINES_FIELDS = [\"lineID\", \"characterID\", \"movieID\", \"character\", \"text\"]\r\n",
        "MOVIE_CONVERSATIONS_FIELDS = [\"character1ID\", \"character2ID\", \"movieID\", \"utteranceIDs\"]\r\n",
        "\r\n",
        "# Load lines and process conversations\r\n",
        "print(\"\\nProcessing corpus...\")\r\n",
        "lines = loadLines(os.path.join(corpus, \"movie_lines.txt\"), MOVIE_LINES_FIELDS)\r\n",
        "print(\"\\nLoading conversations...\")\r\n",
        "conversations = loadConversations(os.path.join(corpus, \"movie_conversations.txt\"),\r\n",
        "                                  lines, MOVIE_CONVERSATIONS_FIELDS)\r\n",
        "\r\n",
        "# Write new csv file\r\n",
        "print(\"\\nWriting newly formatted file...\")\r\n",
        "with open(datafile, 'w', encoding='utf-8') as outputfile:\r\n",
        "    writer = csv.writer(outputfile, delimiter=delimiter, lineterminator='\\n')\r\n",
        "    for pair in extractSentencePairs(conversations):\r\n",
        "        writer.writerow(pair)\r\n",
        "\r\n",
        "# Print a sample of lines\r\n",
        "print(\"\\nSample lines from file:\")\r\n",
        "printLines(datafile)"
      ],
      "execution_count": 9,
      "outputs": [
        {
          "output_type": "stream",
          "text": [
            "\n",
            "Processing corpus...\n",
            "\n",
            "Loading conversations...\n",
            "\n",
            "Writing newly formatted file...\n",
            "\n",
            "Sample lines from file:\n",
            "b\"Can we make this quick?  Roxanne Korrine and Andrew Barrett are having an incredibly horrendous public break- up on the quad.  Again.\\tWell, I thought we'd start with pronunciation, if that's okay with you.\\n\"\n",
            "b\"Well, I thought we'd start with pronunciation, if that's okay with you.\\tNot the hacking and gagging and spitting part.  Please.\\n\"\n",
            "b\"Not the hacking and gagging and spitting part.  Please.\\tOkay... then how 'bout we try out some French cuisine.  Saturday?  Night?\\n\"\n",
            "b\"You're asking me out.  That's so cute. What's your name again?\\tForget it.\\n\"\n",
            "b\"No, no, it's my fault -- we didn't have a proper introduction ---\\tCameron.\\n\"\n",
            "b\"Cameron.\\tThe thing is, Cameron -- I'm at the mercy of a particularly hideous breed of loser.  My sister.  I can't date until she does.\\n\"\n",
            "b\"The thing is, Cameron -- I'm at the mercy of a particularly hideous breed of loser.  My sister.  I can't date until she does.\\tSeems like she could get a date easy enough...\\n\"\n",
            "b'Why?\\tUnsolved mystery.  She used to be really popular when she started high school, then it was just like she got sick of it or something.\\n'\n",
            "b\"Unsolved mystery.  She used to be really popular when she started high school, then it was just like she got sick of it or something.\\tThat's a shame.\\n\"\n",
            "b'Gosh, if only we could find Kat a boyfriend...\\tLet me see what I can do.\\n'\n",
            "b\"C'esc ma tete. This is my head\\tRight.  See?  You're ready for the quiz.\\n\"\n",
            "b\"Right.  See?  You're ready for the quiz.\\tI don't want to know how to say that though.  I want to know useful things. Like where the good stores are.  How much does champagne cost?  Stuff like Chat.  I have never in my life had to point out my head to someone.\\n\"\n",
            "b\"I don't want to know how to say that though.  I want to know useful things. Like where the good stores are.  How much does champagne cost?  Stuff like Chat.  I have never in my life had to point out my head to someone.\\tThat's because it's such a nice one.\\n\"\n",
            "b\"That's because it's such a nice one.\\tForget French.\\n\"\n",
            "b\"How is our little Find the Wench A Date plan progressing?\\tWell, there's someone I think might be --\\n\"\n",
            "b'There.\\tWhere?\\n'\n",
            "b\"You got something on your mind?\\tI counted on you to help my cause. You and that thug are obviously failing. Aren't we ever going on our date?\\n\"\n",
            "b\"You have my word.  As a gentleman\\tYou're sweet.\\n\"\n",
            "b\"How do you get your hair to look like that?\\tEber's Deep Conditioner every two days. And I never, ever use a blowdryer without the diffuser attachment.\\n\"\n",
            "b\"Sure have.\\tI really, really, really wanna go, but I can't.  Not unless my sister goes.\\n\"\n",
            "b\"I really, really, really wanna go, but I can't.  Not unless my sister goes.\\tI'm workin' on it. But she doesn't seem to be goin' for him.\\n\"\n",
            "b\"She's not a...\\tLesbian?  No. I found a picture of Jared Leto in one of her drawers, so I'm pretty sure she's not harboring same-sex tendencies.\\n\"\n",
            "b\"Lesbian?  No. I found a picture of Jared Leto in one of her drawers, so I'm pretty sure she's not harboring same-sex tendencies.\\tSo that's the kind of guy she likes? Pretty ones?\\n\"\n",
            "b\"So that's the kind of guy she likes? Pretty ones?\\tWho knows?  All I've ever heard her say is that she'd dip before dating a guy that smokes.\\n\"\n",
            "b'Hi.\\tLooks like things worked out tonight, huh?\\n'\n"
          ],
          "name": "stdout"
        }
      ]
    },
    {
      "cell_type": "markdown",
      "metadata": {
        "id": "aqjmP3VRQ8na"
      },
      "source": [
        "sample outputs for the variables\r\n",
        "\r\n",
        "loadLines splits each line of the file into a dictionary of fields (lineID, characterID, movieID, character, text)\r\n",
        "\r\n",
        "**lines**  \r\n",
        "\r\n",
        "{'L1045': {'character': 'BIANCA',\r\n",
        "  'characterID': 'u0',\r\n",
        "  'lineID': 'L1045',\r\n",
        "  'movieID': 'm0',\r\n",
        "  'text': 'They do not!\\n'},...\r\n",
        "\r\n",
        "loadConversations groups fields of lines from loadLines into conversations based on movie_conversations.txt\r\n",
        "\r\n",
        "  **conversations**\r\n",
        "\r\n",
        "  {'character1ID': 'u0',\r\n",
        " 'character2ID': 'u2',\r\n",
        " 'lines': [{'character': 'BIANCA',\r\n",
        "   'characterID': 'u0',\r\n",
        "   'lineID': 'L194',\r\n",
        "   'movieID': 'm0',\r\n",
        "   'text': 'Can we make this quick?  Roxanne Korrine and Andrew Barrett are having an incredibly horrendous public break- up on the quad.  Again.\\n'},\r\n",
        "  {'character': 'CAMERON',\r\n",
        "   'characterID': 'u2',\r\n",
        "   'lineID': 'L195',\r\n",
        "   'movieID': 'm0',\r\n",
        "   'text': \"Well, I thought we'd start with pronunciation, if that's okay with you.\\n\"},\r\n",
        "  {'character': 'BIANCA',\r\n",
        "   'characterID': 'u0',\r\n",
        "   'lineID': 'L196',\r\n",
        "   'movieID': 'm0',\r\n",
        "   'text': 'Not the hacking and gagging and spitting part.  Please.\\n'},\r\n",
        "  {'character': 'CAMERON',\r\n",
        "   'characterID': 'u2',\r\n",
        "   'lineID': 'L197',\r\n",
        "   'movieID': 'm0',\r\n",
        "   'text': \"Okay... then how 'bout we try out some French cuisine.  Saturday?  Night?\\n\"}],\r\n",
        " 'movieID': 'm0',\r\n",
        " 'utteranceIDs': \"['L194', 'L195', 'L196', 'L197']\\n\"}\r\n",
        "\r\n",
        "extractSentencePairs extracts pairs of sentences from conversations\r\n",
        "\r\n",
        " **conversation pair**\r\n",
        "\r\n",
        " ['Can we make this quick?  Roxanne Korrine and Andrew Barrett are having an incredibly horrendous public break- up on the quad.  Again.', \"Well, I thought we'd start with pronunciation, if that's okay with you.\"]"
      ]
    },
    {
      "cell_type": "code",
      "metadata": {
        "id": "4pwsLjiNtb_K"
      },
      "source": [
        "# Default word tokens\r\n",
        "# Voc class keeps a mapping from words to indexes, a reverse mapping of indexes to words, a count of each word and a total word count\r\n",
        "PAD_token = 0  # Used for padding short sentences\r\n",
        "SOS_token = 1  # Start-of-sentence token\r\n",
        "EOS_token = 2  # End-of-sentence token\r\n",
        "\r\n",
        "class Voc:\r\n",
        "    def __init__(self, name):\r\n",
        "        self.name = name\r\n",
        "        self.trimmed = False\r\n",
        "        self.word2index = {}\r\n",
        "        self.word2count = {}\r\n",
        "        self.index2word = {PAD_token: \"PAD\", SOS_token: \"SOS\", EOS_token: \"EOS\"}\r\n",
        "        self.num_words = 3  # Count SOS, EOS, PAD\r\n",
        "\r\n",
        "    def addSentence(self, sentence):\r\n",
        "        for word in sentence.split(' '):\r\n",
        "            self.addWord(word)\r\n",
        "\r\n",
        "    def addWord(self, word):\r\n",
        "        if word not in self.word2index:\r\n",
        "            self.word2index[word] = self.num_words\r\n",
        "            self.word2count[word] = 1\r\n",
        "            self.index2word[self.num_words] = word\r\n",
        "            self.num_words += 1\r\n",
        "        else:\r\n",
        "            self.word2count[word] += 1\r\n",
        "\r\n",
        "    # Remove words below a certain count threshold\r\n",
        "    def trim(self, min_count):\r\n",
        "        if self.trimmed:\r\n",
        "            return\r\n",
        "        self.trimmed = True\r\n",
        "\r\n",
        "        keep_words = []\r\n",
        "\r\n",
        "        for k, v in self.word2count.items():\r\n",
        "            if v >= min_count:\r\n",
        "                keep_words.append(k)\r\n",
        "\r\n",
        "        print('keep_words {} / {} = {:.4f}'.format(\r\n",
        "            len(keep_words), len(self.word2index), len(keep_words) / len(self.word2index)\r\n",
        "        ))\r\n",
        "\r\n",
        "        # Reinitialize dictionaries\r\n",
        "        self.word2index = {}\r\n",
        "        self.word2count = {}\r\n",
        "        self.index2word = {PAD_token: \"PAD\", SOS_token: \"SOS\", EOS_token: \"EOS\"}\r\n",
        "        self.num_words = 3 # Count default tokens\r\n",
        "\r\n",
        "        for word in keep_words:\r\n",
        "            self.addWord(word)"
      ],
      "execution_count": 10,
      "outputs": []
    },
    {
      "cell_type": "code",
      "metadata": {
        "id": "lIQXVv2utf4T",
        "colab": {
          "base_uri": "https://localhost:8080/"
        },
        "outputId": "71784ea7-2024-48e6-f4f4-937f4ea61237"
      },
      "source": [
        "MAX_LENGTH = 10  # Maximum sentence length to consider\r\n",
        "\r\n",
        "# convert the Unicode strings to ASCII using unicodeToAscii\r\n",
        "\r\n",
        "# Turn a Unicode string to plain ASCII, thanks to\r\n",
        "# https://stackoverflow.com/a/518232/2809427\r\n",
        "def unicodeToAscii(s):\r\n",
        "    return ''.join(\r\n",
        "        c for c in unicodedata.normalize('NFD', s)\r\n",
        "        if unicodedata.category(c) != 'Mn'\r\n",
        "    )\r\n",
        "\r\n",
        "# Lowercase, trim, and remove non-letter characters\r\n",
        "def normalizeString(s):\r\n",
        "    s = unicodeToAscii(s.lower().strip())\r\n",
        "    s = re.sub(r\"([.!?])\", r\" \\1\", s)\r\n",
        "    s = re.sub(r\"[^a-zA-Z.!?]+\", r\" \", s)\r\n",
        "    s = re.sub(r\"\\s+\", r\" \", s).strip()\r\n",
        "    return s\r\n",
        "\r\n",
        "# Read query/response pairs and return a voc object\r\n",
        "def readVocs(datafile, corpus_name):\r\n",
        "    print(\"Reading lines...\")\r\n",
        "    # Read the file and split into lines\r\n",
        "    lines = open(datafile, encoding='utf-8').\\\r\n",
        "        read().strip().split('\\n')\r\n",
        "    # Split every line into pairs and normalize\r\n",
        "    pairs = [[normalizeString(s) for s in l.split('\\t')] for l in lines]\r\n",
        "    voc = Voc(corpus_name)\r\n",
        "    return voc, pairs\r\n",
        "\r\n",
        "# Returns True iff both sentences in a pair 'p' are under the MAX_LENGTH threshold\r\n",
        "def filterPair(p):\r\n",
        "    # Input sequences need to preserve the last word for EOS token\r\n",
        "    return len(p[0].split(' ')) < MAX_LENGTH and len(p[1].split(' ')) < MAX_LENGTH\r\n",
        "\r\n",
        "# Filter pairs using filterPair condition\r\n",
        "def filterPairs(pairs):\r\n",
        "    return [pair for pair in pairs if filterPair(pair)]\r\n",
        "\r\n",
        "# Using the functions defined above, return a populated voc object and pairs list\r\n",
        "def loadPrepareData(corpus, corpus_name, datafile, save_dir):\r\n",
        "    print(\"Start preparing training data ...\")\r\n",
        "    voc, pairs = readVocs(datafile, corpus_name)\r\n",
        "    print(\"Read {!s} sentence pairs\".format(len(pairs)))\r\n",
        "    pairs = filterPairs(pairs)\r\n",
        "    print(\"Trimmed to {!s} sentence pairs\".format(len(pairs)))\r\n",
        "    print(\"Counting words...\")\r\n",
        "    for pair in pairs:\r\n",
        "        voc.addSentence(pair[0])\r\n",
        "        voc.addSentence(pair[1])\r\n",
        "    print(\"Counted words:\", voc.num_words)\r\n",
        "    return voc, pairs\r\n",
        "\r\n",
        "\r\n",
        "# Load/Assemble voc and pairs\r\n",
        "save_dir = os.path.join(\"data\", \"save\")\r\n",
        "voc, pairs = loadPrepareData(corpus, corpus_name, datafile, save_dir)\r\n",
        "# Print some pairs to validate\r\n",
        "print(\"\\npairs:\")\r\n",
        "for pair in pairs[:10]:\r\n",
        "    print(pair)"
      ],
      "execution_count": 11,
      "outputs": [
        {
          "output_type": "stream",
          "text": [
            "Start preparing training data ...\n",
            "Reading lines...\n",
            "Read 221282 sentence pairs\n",
            "Trimmed to 64271 sentence pairs\n",
            "Counting words...\n",
            "Counted words: 18008\n",
            "\n",
            "pairs:\n",
            "['there .', 'where ?']\n",
            "['you have my word . as a gentleman', 'you re sweet .']\n",
            "['hi .', 'looks like things worked out tonight huh ?']\n",
            "['you know chastity ?', 'i believe we share an art instructor']\n",
            "['have fun tonight ?', 'tons']\n",
            "['well no . . .', 'then that s all you had to say .']\n",
            "['then that s all you had to say .', 'but']\n",
            "['but', 'you always been this selfish ?']\n",
            "['do you listen to this crap ?', 'what crap ?']\n",
            "['what good stuff ?', 'the real you .']\n"
          ],
          "name": "stdout"
        }
      ]
    },
    {
      "cell_type": "markdown",
      "metadata": {
        "id": "lDaIQy-IRqKx"
      },
      "source": [
        "Another tactic that is beneficial to achieving faster convergence during training is trimming rarely used words out of our vocabulary. Decreasing the feature space will also soften the difficulty of the function that the model must learn to approximate. We will do this as a two-step process:\r\n",
        "\r\n",
        "1. Trim words used under MIN_COUNT threshold using the voc.trim function.\r\n",
        "2. Filter out pairs with trimmed words."
      ]
    },
    {
      "cell_type": "code",
      "metadata": {
        "id": "0wE7luAztkxa",
        "colab": {
          "base_uri": "https://localhost:8080/"
        },
        "outputId": "edec02c5-6e59-4ad0-a277-60282d398276"
      },
      "source": [
        "MIN_COUNT = 3    # Minimum word count threshold for trimming\r\n",
        "\r\n",
        "def trimRareWords(voc, pairs, MIN_COUNT):\r\n",
        "    # Trim words used under the MIN_COUNT from the voc\r\n",
        "    voc.trim(MIN_COUNT)\r\n",
        "    # Filter out pairs with trimmed words\r\n",
        "    keep_pairs = []\r\n",
        "    for pair in pairs:\r\n",
        "        input_sentence = pair[0]\r\n",
        "        output_sentence = pair[1]\r\n",
        "        keep_input = True\r\n",
        "        keep_output = True\r\n",
        "        # Check input sentence\r\n",
        "        for word in input_sentence.split(' '):\r\n",
        "            if word not in voc.word2index:\r\n",
        "                keep_input = False\r\n",
        "                break\r\n",
        "        # Check output sentence\r\n",
        "        for word in output_sentence.split(' '):\r\n",
        "            if word not in voc.word2index:\r\n",
        "                keep_output = False\r\n",
        "                break\r\n",
        "\r\n",
        "        # Only keep pairs that do not contain trimmed word(s) in their input or output sentence\r\n",
        "        if keep_input and keep_output:\r\n",
        "            keep_pairs.append(pair)\r\n",
        "\r\n",
        "    print(\"Trimmed from {} pairs to {}, {:.4f} of total\".format(len(pairs), len(keep_pairs), len(keep_pairs) / len(pairs)))\r\n",
        "    return keep_pairs\r\n",
        "\r\n",
        "\r\n",
        "# Trim voc and pairs\r\n",
        "pairs = trimRareWords(voc, pairs, MIN_COUNT)"
      ],
      "execution_count": 12,
      "outputs": [
        {
          "output_type": "stream",
          "text": [
            "keep_words 7823 / 18005 = 0.4345\n",
            "Trimmed from 64271 pairs to 53165, 0.8272 of total\n"
          ],
          "name": "stdout"
        }
      ]
    },
    {
      "cell_type": "code",
      "metadata": {
        "id": "p8VhbYl4tuOL",
        "colab": {
          "base_uri": "https://localhost:8080/"
        },
        "outputId": "cd6614c9-a05d-4334-ccf6-c753fa52d9c2"
      },
      "source": [
        "def indexesFromSentence(voc, sentence):\r\n",
        "    return [voc.word2index[word] for word in sentence.split(' ')] + [EOS_token]\r\n",
        "\r\n",
        "\r\n",
        "def zeroPadding(l, fillvalue=PAD_token):\r\n",
        "    return list(itertools.zip_longest(*l, fillvalue=fillvalue))\r\n",
        "\r\n",
        "def binaryMatrix(l, value=PAD_token):\r\n",
        "    m = []\r\n",
        "    for i, seq in enumerate(l):\r\n",
        "        m.append([])\r\n",
        "        for token in seq:\r\n",
        "            if token == PAD_token:\r\n",
        "                m[i].append(0)\r\n",
        "            else:\r\n",
        "                m[i].append(1)\r\n",
        "    return m\r\n",
        "\r\n",
        "# Returns padded input sequence tensor and lengths\r\n",
        "def inputVar(l, voc):\r\n",
        "    indexes_batch = [indexesFromSentence(voc, sentence) for sentence in l]\r\n",
        "    lengths = torch.tensor([len(indexes) for indexes in indexes_batch])\r\n",
        "    padList = zeroPadding(indexes_batch)\r\n",
        "    padVar = torch.LongTensor(padList)\r\n",
        "    return padVar, lengths\r\n",
        "\r\n",
        "# Returns padded target sequence tensor, padding mask, and max target length\r\n",
        "def outputVar(l, voc):\r\n",
        "    indexes_batch = [indexesFromSentence(voc, sentence) for sentence in l]\r\n",
        "    max_target_len = max([len(indexes) for indexes in indexes_batch])\r\n",
        "    padList = zeroPadding(indexes_batch)\r\n",
        "    mask = binaryMatrix(padList)\r\n",
        "    mask = torch.BoolTensor(mask)\r\n",
        "    padVar = torch.LongTensor(padList)\r\n",
        "    return padVar, mask, max_target_len\r\n",
        "\r\n",
        "# Returns all items for a given batch of pairs\r\n",
        "# Src and target are required in [batch_size, src_len] format. Hence tranposing the inp and output matrix.\r\n",
        "# Lengths for input and target and mask are not required.\r\n",
        "def batch2TrainData(voc, pair_batch):\r\n",
        "    pair_batch.sort(key=lambda x: len(x[0].split(\" \")), reverse=True)\r\n",
        "    input_batch, output_batch = [], []\r\n",
        "    for pair in pair_batch:\r\n",
        "        input_batch.append(pair[0])\r\n",
        "        output_batch.append(pair[1])\r\n",
        "    inp, lengths = inputVar(input_batch, voc)\r\n",
        "    output, mask, max_target_len = outputVar(output_batch, voc)\r\n",
        "    return inp.permute(1, 0), output.permute(1, 0)\r\n",
        "\r\n",
        "\r\n",
        "# Example for validation\r\n",
        "small_batch_size = 5\r\n",
        "batches = batch2TrainData(voc, [random.choice(pairs) for _ in range(small_batch_size)])\r\n",
        "input_variable, target_variable = batches\r\n",
        "\r\n",
        "print(\"Input variable shape: \", input_variable.shape)\r\n",
        "print(\"input_variable:\", input_variable)\r\n",
        "print(\"target_variable shape:\", target_variable.shape)\r\n",
        "print(\"target_variable:\", target_variable)\r\n"
      ],
      "execution_count": 13,
      "outputs": [
        {
          "output_type": "stream",
          "text": [
            "Input variable shape:  torch.Size([5, 9])\n",
            "input_variable: tensor([[   5,    7,  153,  219,   70, 1160,  969,    4,    2],\n",
            "        [  50, 3109,    8,    7,  819, 3089,    6,    2,    0],\n",
            "        [  64,   50,   47,    7, 1654,    6,    2,    0,    0],\n",
            "        [ 534,   76,    6,    2,    0,    0,    0,    0,    0],\n",
            "        [  34,  625,    4,    2,    0,    0,    0,    0,    0]])\n",
            "target_variable shape: torch.Size([5, 10])\n",
            "target_variable: tensor([[  25,   94,  117,  141,    7,    4,    2,    0,    0,    0],\n",
            "        [   7,  132,  359,   66,    2,    0,    0,    0,    0,    0],\n",
            "        [  34, 1285,    4,    2,    0,    0,    0,    0,    0,    0],\n",
            "        [ 167,    4,    2,    0,    0,    0,    0,    0,    0,    0],\n",
            "        [ 197,  117,  669,   25,  331,  117, 1036,    7,   66,    2]])\n"
          ],
          "name": "stdout"
        }
      ]
    },
    {
      "cell_type": "code",
      "metadata": {
        "colab": {
          "base_uri": "https://localhost:8080/"
        },
        "id": "Uh74bjEE1AOI",
        "outputId": "ff3f7019-32e5-41a4-fe49-a971221a202d"
      },
      "source": [
        "print(\"First sentence's index: \",input_variable[0,:])\r\n",
        "first_sentence_words = [voc.index2word[id.item()] for id in input_variable[0,:]]\r\n",
        "print(first_sentence_words)\r\n",
        "first_target_words = [voc.index2word[id.item()] for id in target_variable[0,:]]\r\n",
        "print(first_target_words)"
      ],
      "execution_count": 14,
      "outputs": [
        {
          "output_type": "stream",
          "text": [
            "First sentence's index:  tensor([   5,    7,  153,  219,   70, 1160,  969,    4,    2])\n",
            "['where', 'you', 'were', 'when', 'your', 'husband', 'died', '.', 'EOS']\n",
            "['i', 'can', 't', 'tell', 'you', '.', 'EOS', 'PAD', 'PAD', 'PAD']\n"
          ],
          "name": "stdout"
        }
      ]
    },
    {
      "cell_type": "markdown",
      "metadata": {
        "id": "PDmGNc9PtwW0"
      },
      "source": [
        "### Prepare model"
      ]
    },
    {
      "cell_type": "markdown",
      "metadata": {
        "id": "xcRi-dNheW1b"
      },
      "source": [
        "#### Encoder"
      ]
    },
    {
      "cell_type": "code",
      "metadata": {
        "id": "VsEt8KBmtygA"
      },
      "source": [
        "class Encoder(nn.Module):\r\n",
        "    def __init__(self, input_dim, hid_dim, n_layers, n_heads, pf_dim, dropout, device, max_lengths = 100):\r\n",
        "        super().__init__()\r\n",
        "        self.device = device\r\n",
        "        self.tok_embedding = nn.Embedding(input_dim, hid_dim)\r\n",
        "        self.pos_embedding = nn.Embedding(max_lengths, hid_dim)\r\n",
        "        self.layers = nn.ModuleList([EncoderLayer(hid_dim, n_heads, pf_dim, dropout, device) for _ in range(n_layers)])\r\n",
        "        self.dropout = nn.Dropout(dropout)\r\n",
        "        self.scale = torch.sqrt(torch.FloatTensor([hid_dim])).to(device)\r\n",
        "\r\n",
        "    def forward(self, src, src_mask):\r\n",
        "        # src = [batch_size, src_len]\r\n",
        "        # src_mask = [batch_size, 1, 1, src_len] This is to keep the source sentence and ignore padding tokens.\r\n",
        "        batch_size = src.shape[0]\r\n",
        "        src_len = src.shape[1]\r\n",
        "        pos = torch.arange(0, src_len).unsqueeze(0).repeat(batch_size, 1).to(self.device)\r\n",
        "        # pos = [batch_size, src_len]\r\n",
        "        src = self.dropout(self.tok_embedding(src) * self.scale + self.pos_embedding(pos))\r\n",
        "        # src = [batch_size, src_len, hid_dim]\r\n",
        "\r\n",
        "        for layer in self.layers:\r\n",
        "            src = layer(src, src_mask)\r\n",
        "            # src = [batch_size, src_len, hid_dim]\r\n",
        "        \r\n",
        "        return src"
      ],
      "execution_count": 15,
      "outputs": []
    },
    {
      "cell_type": "markdown",
      "metadata": {
        "id": "mLg13FZ7eZqN"
      },
      "source": [
        "#### Encoder Layer"
      ]
    },
    {
      "cell_type": "code",
      "metadata": {
        "id": "ZxdB_7LPt6BS"
      },
      "source": [
        "class EncoderLayer(nn.Module):\r\n",
        "    def __init__(self, hid_dim, n_heads, pf_dim, dropout, device):\r\n",
        "        super().__init__()\r\n",
        "        self.self_attn_layer_norm = nn.LayerNorm(hid_dim)\r\n",
        "        self.ff_layer_norm = nn.LayerNorm(hid_dim)\r\n",
        "        self.self_attention = MultiHeadAttentionLayer(hid_dim, n_heads, dropout, device)\r\n",
        "        self.positionwise_feedforward = PositionwiseFeedforwardLayer(hid_dim, pf_dim, dropout)\r\n",
        "        self.dropout = nn.Dropout(dropout)\r\n",
        "    \r\n",
        "    def forward(self, src, src_mask):\r\n",
        "        # src = [batch_size, src_len, hid_dim]\r\n",
        "        # src_mask = [batch_size, 1, 1, src_len]\r\n",
        "\r\n",
        "        _src, _ = self.self_attention(src, src, src, src_mask)\r\n",
        "        \r\n",
        "        # dropout, residual connection and layer normalization\r\n",
        "        src = self.self_attn_layer_norm(src + self.dropout(_src))\r\n",
        "        #src = [batch_size, src_len, hid_dim]\r\n",
        "        \r\n",
        "        # positionwise feedforward\r\n",
        "        _src = self.positionwise_feedforward(src)\r\n",
        "        \r\n",
        "        # dropout, residual and layer norm\r\n",
        "        src = self.ff_layer_norm(src + self.dropout(_src))        \r\n",
        "        #src = [batch_size, src_len, hid_dim]\r\n",
        "        \r\n",
        "        return src   "
      ],
      "execution_count": 16,
      "outputs": []
    },
    {
      "cell_type": "markdown",
      "metadata": {
        "id": "L37k1sjxedSf"
      },
      "source": [
        "#### Multi head attention layer"
      ]
    },
    {
      "cell_type": "code",
      "metadata": {
        "id": "qeSWG1xIt8oX"
      },
      "source": [
        "class MultiHeadAttentionLayer(nn.Module):\r\n",
        "    def __init__(self, hid_dim, n_heads, dropout, device):\r\n",
        "        super().__init__()\r\n",
        "        self.hid_dim = hid_dim\r\n",
        "        self.n_heads = n_heads\r\n",
        "        self.head_dim = hid_dim // n_heads\r\n",
        "\r\n",
        "        self.fc_q = nn.Linear(hid_dim, hid_dim)\r\n",
        "        self.fc_k = nn.Linear(hid_dim, hid_dim)\r\n",
        "        self.fc_v = nn.Linear(hid_dim, hid_dim)\r\n",
        "\r\n",
        "        self.fc_o = nn.Linear(hid_dim, hid_dim)\r\n",
        "        \r\n",
        "        self.dropout = nn.Dropout(dropout)\r\n",
        "        \r\n",
        "        self.scale = torch.sqrt(torch.FloatTensor([self.head_dim])).to(device)\r\n",
        "\r\n",
        "    def forward(self, query, key, value, mask = None):\r\n",
        "        batch_size = query.shape[0]\r\n",
        "        # query = [batch_size, query_len, hid_dim]\r\n",
        "        # key = [batch_size, key_len, hid_dim]\r\n",
        "        # value = [batch_size, value_len, hid_dim]\r\n",
        "\r\n",
        "        Q = self.fc_q(query)\r\n",
        "        K = self.fc_k(key)\r\n",
        "        V = self.fc_v(value)\r\n",
        "        # Q = [batch_size, query_len, hid_dim]\r\n",
        "        # K = [batch_size, key_len, hid_dim]\r\n",
        "        # V = [batch_size, value_len, hid_dim]\r\n",
        "\r\n",
        "        # Split the hid_dim of query, key and value into n_heads\r\n",
        "        Q = Q.view(batch_size, -1, self.n_heads, self.head_dim).permute(0, 2, 1, 3)\r\n",
        "        K = K.view(batch_size, -1, self.n_heads, self.head_dim).permute(0, 2, 1, 3)\r\n",
        "        V = V.view(batch_size, -1, self.n_heads, self.head_dim).permute(0, 2, 1, 3)\r\n",
        "\r\n",
        "        # Energy (unnormalized attention)\r\n",
        "        energy = torch.matmul(Q, K.permute(0, 1, 3, 2)) / self.scale\r\n",
        "        #energy = [batch_size, n_heads, query_len, key_len]\r\n",
        "\r\n",
        "        # mask the energy so we do not pay attention over any elements of the sequeuence we shouldn't\r\n",
        "        if mask is not None:\r\n",
        "            energy = energy.masked_fill(mask == 0, -1e10)\r\n",
        "        \r\n",
        "        attention = torch.softmax(energy, dim = -1)                \r\n",
        "        # attention = [batch_size, n_heads, query_len, key_len]\r\n",
        "                \r\n",
        "        x = torch.matmul(self.dropout(attention), V)        \r\n",
        "        # x = [batch_size, n_heads, query_len, head_dim]\r\n",
        "        \r\n",
        "        x = x.permute(0, 2, 1, 3).contiguous()        \r\n",
        "        # x = [batch_size, query_len, n_heads, head_dim]\r\n",
        "        \r\n",
        "        x = x.view(batch_size, -1, self.hid_dim)        \r\n",
        "        # x = [batch_size, query_len, hid_dim]\r\n",
        "        \r\n",
        "        x = self.fc_o(x)        \r\n",
        "        # x = [batch_size, query_len, hid_dim]\r\n",
        "        \r\n",
        "        return x, attention"
      ],
      "execution_count": 17,
      "outputs": []
    },
    {
      "cell_type": "markdown",
      "metadata": {
        "id": "2Yztu_Ydehmd"
      },
      "source": [
        "#### Positionwise Feed forward layer"
      ]
    },
    {
      "cell_type": "code",
      "metadata": {
        "id": "ISQNY9P5t_6K"
      },
      "source": [
        "class PositionwiseFeedforwardLayer(nn.Module):\r\n",
        "    def __init__(self, hid_dim, pf_dim, dropout):\r\n",
        "        super().__init__()\r\n",
        "        \r\n",
        "        self.fc_1 = nn.Linear(hid_dim, pf_dim)\r\n",
        "        self.fc_2 = nn.Linear(pf_dim, hid_dim)\r\n",
        "        \r\n",
        "        self.dropout = nn.Dropout(dropout)\r\n",
        "        \r\n",
        "    def forward(self, x):        \r\n",
        "        # x = [batch_size, seq_len, hid_dim]\r\n",
        "        \r\n",
        "        x = self.dropout(torch.relu(self.fc_1(x)))        \r\n",
        "        # x = [batch_size, seq_len, pf_dim]\r\n",
        "        \r\n",
        "        x = self.fc_2(x)        \r\n",
        "        # x = [batch_size, seq_len, hid_dim]\r\n",
        "        \r\n",
        "        return x"
      ],
      "execution_count": 18,
      "outputs": []
    },
    {
      "cell_type": "markdown",
      "metadata": {
        "id": "znUbAc84em89"
      },
      "source": [
        "#### Decoder"
      ]
    },
    {
      "cell_type": "code",
      "metadata": {
        "id": "3Wht-8kUuCCO"
      },
      "source": [
        "class Decoder(nn.Module):\r\n",
        "    def __init__(self, output_dim, hid_dim, n_layers, n_heads, pf_dim, dropout, device, max_length = 100):\r\n",
        "        super().__init__()\r\n",
        "        \r\n",
        "        self.device = device\r\n",
        "        \r\n",
        "        self.tok_embedding = nn.Embedding(output_dim, hid_dim)\r\n",
        "        self.pos_embedding = nn.Embedding(max_length, hid_dim)\r\n",
        "        \r\n",
        "        self.layers = nn.ModuleList([DecoderLayer(hid_dim, n_heads, pf_dim, dropout, device) for _ in range(n_layers)])\r\n",
        "        \r\n",
        "        self.fc_out = nn.Linear(hid_dim, output_dim)\r\n",
        "        \r\n",
        "        self.dropout = nn.Dropout(dropout)\r\n",
        "        \r\n",
        "        self.scale = torch.sqrt(torch.FloatTensor([hid_dim])).to(device)\r\n",
        "        \r\n",
        "    def forward(self, trg, enc_src, trg_mask, src_mask):\r\n",
        "        \r\n",
        "        # trg = [batch_size, trg_len]\r\n",
        "        # enc_src = [batch_size, src_len, hid_dim]\r\n",
        "        # trg_mask = [batch_size, 1, trg_len, trg_len]\r\n",
        "        # src_mask = [batch_size, 1, 1, src_len]\r\n",
        "                \r\n",
        "        batch_size = trg.shape[0]\r\n",
        "        trg_len = trg.shape[1]\r\n",
        "        \r\n",
        "        pos = torch.arange(0, trg_len).unsqueeze(0).repeat(batch_size, 1).to(self.device)                            \r\n",
        "        # pos = [batch_size, trg_len]\r\n",
        "            \r\n",
        "        trg = self.dropout((self.tok_embedding(trg) * self.scale) + self.pos_embedding(pos))                \r\n",
        "        # trg = [batch_size, trg_len, hid_dim]\r\n",
        "        \r\n",
        "        for layer in self.layers:\r\n",
        "            trg, attention = layer(trg, enc_src, trg_mask, src_mask)\r\n",
        "        \r\n",
        "        # trg = [batch_size, trg_len, hid_dim]\r\n",
        "        # attention = [batch_size, n_heads, trg_len, src_len]\r\n",
        "        \r\n",
        "        output = self.fc_out(trg)        \r\n",
        "        # output = [batch_size, trg_len, output_dim]\r\n",
        "            \r\n",
        "        return output, attention"
      ],
      "execution_count": 19,
      "outputs": []
    },
    {
      "cell_type": "markdown",
      "metadata": {
        "id": "DfHexO7_eqHp"
      },
      "source": [
        "#### Decoder layer"
      ]
    },
    {
      "cell_type": "code",
      "metadata": {
        "id": "SGz8oyLfuE1q"
      },
      "source": [
        "class DecoderLayer(nn.Module):\r\n",
        "    def __init__(self, hid_dim, n_heads, pf_dim, dropout, device):\r\n",
        "        super().__init__()\r\n",
        "        \r\n",
        "        self.self_attn_layer_norm = nn.LayerNorm(hid_dim)\r\n",
        "        self.enc_attn_layer_norm = nn.LayerNorm(hid_dim)\r\n",
        "        self.ff_layer_norm = nn.LayerNorm(hid_dim)\r\n",
        "        self.self_attention = MultiHeadAttentionLayer(hid_dim, n_heads, dropout, device)\r\n",
        "        self.encoder_attention = MultiHeadAttentionLayer(hid_dim, n_heads, dropout, device)\r\n",
        "        self.positionwise_feedforward = PositionwiseFeedforwardLayer(hid_dim, pf_dim, dropout)\r\n",
        "        self.dropout = nn.Dropout(dropout)\r\n",
        "        \r\n",
        "    def forward(self, trg, enc_src, trg_mask, src_mask):        \r\n",
        "        # trg = [batch_size, trg_len, hid_dim]\r\n",
        "        # enc_src = [batch_size, src_len, hid_dim]\r\n",
        "        # trg_mask = [batch_size, 1, trg_len, trg_len]\r\n",
        "        # src_mask = [batch_size, 1, 1, src_len]\r\n",
        "        \r\n",
        "        # self attention\r\n",
        "        _trg, _ = self.self_attention(trg, trg, trg, trg_mask)\r\n",
        "        \r\n",
        "        #dropout, residual connection and layer norm\r\n",
        "        trg = self.self_attn_layer_norm(trg + self.dropout(_trg))            \r\n",
        "        # trg = [batch_size, trg_len, hid_dim]\r\n",
        "            \r\n",
        "        # encoder attention\r\n",
        "        _trg, attention = self.encoder_attention(trg, enc_src, enc_src, src_mask)\r\n",
        "        \r\n",
        "        #dropout, residual connection and layer norm\r\n",
        "        trg = self.enc_attn_layer_norm(trg + self.dropout(_trg))\r\n",
        "                    \r\n",
        "        # trg = [batch_size, trg_len, hid_dim]\r\n",
        "        \r\n",
        "        # positionwise feedforward\r\n",
        "        _trg = self.positionwise_feedforward(trg)\r\n",
        "        \r\n",
        "        # dropout, residual and layer norm\r\n",
        "        trg = self.ff_layer_norm(trg + self.dropout(_trg))\r\n",
        "        \r\n",
        "        # trg = [batch_size, trg_len, hid_dim]\r\n",
        "        # attention = [batch_size, n_heads, trg_len, src_len]\r\n",
        "        \r\n",
        "        return trg, attention"
      ],
      "execution_count": 20,
      "outputs": []
    },
    {
      "cell_type": "markdown",
      "metadata": {
        "id": "7U3T2P-ses9v"
      },
      "source": [
        "#### Seq2Seq model"
      ]
    },
    {
      "cell_type": "code",
      "metadata": {
        "id": "uxFPnNZoxGmT"
      },
      "source": [
        "class Seq2Seq(nn.Module):\r\n",
        "    def __init__(self, encoder, decoder, src_pad_idx, trg_pad_idx, device):\r\n",
        "        super().__init__()\r\n",
        "        \r\n",
        "        self.encoder = encoder\r\n",
        "        self.decoder = decoder\r\n",
        "        self.src_pad_idx = src_pad_idx\r\n",
        "        self.trg_pad_idx = trg_pad_idx\r\n",
        "        self.device = device\r\n",
        "        \r\n",
        "    def make_src_mask(self, src):        \r\n",
        "        # src = [batch_size, src_len]\r\n",
        "        \r\n",
        "        src_mask = (src != self.src_pad_idx).unsqueeze(1).unsqueeze(2)\r\n",
        "        # src_mask = [batch_size, 1, 1, src_len]\r\n",
        "\r\n",
        "        return src_mask\r\n",
        "    \r\n",
        "    def make_trg_mask(self, trg):\r\n",
        "        \r\n",
        "        # trg = [batch_size, trg_len]\r\n",
        "        \r\n",
        "        trg_pad_mask = (trg != self.trg_pad_idx).unsqueeze(1).unsqueeze(2)        \r\n",
        "        # trg_pad_mask = [batch_size, 1, 1, trg_len]\r\n",
        "        \r\n",
        "        trg_len = trg.shape[1]\r\n",
        "        \r\n",
        "        trg_sub_mask = torch.tril(torch.ones((trg_len, trg_len), device = self.device)).bool()        \r\n",
        "        # trg_sub_mask = [trg_len, trg_len]\r\n",
        "            \r\n",
        "        trg_mask = trg_pad_mask & trg_sub_mask        \r\n",
        "        # trg_mask = [batch_size, 1, trg_len, trg_len]\r\n",
        "        \r\n",
        "        return trg_mask\r\n",
        "\r\n",
        "    def forward(self, src, trg):\r\n",
        "        \r\n",
        "        # src = [batch_size, src_len]\r\n",
        "        # trg = [batch_size, trg_len]\r\n",
        "                \r\n",
        "        src_mask = self.make_src_mask(src)\r\n",
        "        trg_mask = self.make_trg_mask(trg)\r\n",
        "        \r\n",
        "        # src_mask = [batch_size, 1, 1, src_len]\r\n",
        "        # trg_mask = [batch_size, 1, trg_len, trg_len]\r\n",
        "        \r\n",
        "        enc_src = self.encoder(src, src_mask)        \r\n",
        "        # enc_src = [batch_size, src_len, hid_dim]\r\n",
        "                \r\n",
        "        output, attention = self.decoder(trg, enc_src, trg_mask, src_mask)        \r\n",
        "        # output = [batch_size, trg_len, output_dim]\r\n",
        "        # attention = [batch_size, n_heads, trg_len, src_len]\r\n",
        "        \r\n",
        "        return output, attention"
      ],
      "execution_count": 21,
      "outputs": []
    },
    {
      "cell_type": "code",
      "metadata": {
        "colab": {
          "base_uri": "https://localhost:8080/"
        },
        "id": "xzXdxKGomP0t",
        "outputId": "4e26d0a2-c88e-4ab3-8913-d12bc43277ab"
      },
      "source": [
        "print(\"Input dimenstion=voc.num_words: \", voc.num_words)"
      ],
      "execution_count": 22,
      "outputs": [
        {
          "output_type": "stream",
          "text": [
            "Input dimenstion=voc.num_words:  7826\n"
          ],
          "name": "stdout"
        }
      ]
    },
    {
      "cell_type": "code",
      "metadata": {
        "id": "MRelgrNxTVFi",
        "colab": {
          "base_uri": "https://localhost:8080/",
          "height": 229
        },
        "outputId": "39017f6e-a6d8-4776-9411-fd9490ffcb69"
      },
      "source": [
        "INPUT_DIM = 7826 #voc.num_words\r\n",
        "OUTPUT_DIM = len(TRG.vocab)\r\n",
        "HID_DIM = 256\r\n",
        "ENC_LAYERS = 3\r\n",
        "DEC_LAYERS = 3\r\n",
        "ENC_HEADS = 8\r\n",
        "DEC_HEADS = 8\r\n",
        "ENC_PF_DIM = 512\r\n",
        "DEC_PF_DIM = 512\r\n",
        "ENC_DROPOUT = 0.1\r\n",
        "DEC_DROPOUT = 0.1\r\n",
        "\r\n",
        "enc = Encoder(INPUT_DIM, HID_DIM, ENC_LAYERS, ENC_HEADS, ENC_PF_DIM, ENC_DROPOUT, device)\r\n",
        "\r\n",
        "dec = Decoder(OUTPUT_DIM, HID_DIM, DEC_LAYERS, DEC_HEADS,DEC_PF_DIM, DEC_DROPOUT, device)"
      ],
      "execution_count": 23,
      "outputs": [
        {
          "output_type": "error",
          "ename": "NameError",
          "evalue": "ignored",
          "traceback": [
            "\u001b[0;31m---------------------------------------------------------------------------\u001b[0m",
            "\u001b[0;31mNameError\u001b[0m                                 Traceback (most recent call last)",
            "\u001b[0;32m<ipython-input-23-db4c2eac60a1>\u001b[0m in \u001b[0;36m<module>\u001b[0;34m()\u001b[0m\n\u001b[1;32m      1\u001b[0m \u001b[0mINPUT_DIM\u001b[0m \u001b[0;34m=\u001b[0m \u001b[0;36m7826\u001b[0m \u001b[0;31m#voc.num_words\u001b[0m\u001b[0;34m\u001b[0m\u001b[0;34m\u001b[0m\u001b[0m\n\u001b[0;32m----> 2\u001b[0;31m \u001b[0mOUTPUT_DIM\u001b[0m \u001b[0;34m=\u001b[0m \u001b[0mlen\u001b[0m\u001b[0;34m(\u001b[0m\u001b[0mTRG\u001b[0m\u001b[0;34m.\u001b[0m\u001b[0mvocab\u001b[0m\u001b[0;34m)\u001b[0m\u001b[0;34m\u001b[0m\u001b[0;34m\u001b[0m\u001b[0m\n\u001b[0m\u001b[1;32m      3\u001b[0m \u001b[0mHID_DIM\u001b[0m \u001b[0;34m=\u001b[0m \u001b[0;36m256\u001b[0m\u001b[0;34m\u001b[0m\u001b[0;34m\u001b[0m\u001b[0m\n\u001b[1;32m      4\u001b[0m \u001b[0mENC_LAYERS\u001b[0m \u001b[0;34m=\u001b[0m \u001b[0;36m3\u001b[0m\u001b[0;34m\u001b[0m\u001b[0;34m\u001b[0m\u001b[0m\n\u001b[1;32m      5\u001b[0m \u001b[0mDEC_LAYERS\u001b[0m \u001b[0;34m=\u001b[0m \u001b[0;36m3\u001b[0m\u001b[0;34m\u001b[0m\u001b[0;34m\u001b[0m\u001b[0m\n",
            "\u001b[0;31mNameError\u001b[0m: name 'TRG' is not defined"
          ]
        }
      ]
    },
    {
      "cell_type": "code",
      "metadata": {
        "id": "hOvYRqfbTfWW"
      },
      "source": [
        "SRC_PAD_IDX = SRC.vocab.stoi[SRC.pad_token]\r\n",
        "TRG_PAD_IDX = TRG.vocab.stoi[TRG.pad_token]\r\n",
        "\r\n",
        "model = Seq2Seq(enc, dec, SRC_PAD_IDX, TRG_PAD_IDX, device).to(device)"
      ],
      "execution_count": null,
      "outputs": []
    },
    {
      "cell_type": "code",
      "metadata": {
        "id": "sHQ4gnfvTi2q"
      },
      "source": [
        "def count_parameters(model):\r\n",
        "    return sum(p.numel() for p in model.parameters() if p.requires_grad)\r\n",
        "\r\n",
        "print(f'The model has {count_parameters(model):,} trainable parameters')"
      ],
      "execution_count": null,
      "outputs": []
    },
    {
      "cell_type": "markdown",
      "metadata": {
        "id": "klZvQJI6exsI"
      },
      "source": [
        "### Loss function"
      ]
    },
    {
      "cell_type": "code",
      "metadata": {
        "id": "qCoFxrIBezNy"
      },
      "source": [
        "def maskNLLLoss(inp, target, mask):\r\n",
        "    nTotal = mask.sum()\r\n",
        "    crossEntropy = -torch.log(torch.gather(inp, 1, target.view(-1, 1)).squeeze(1))\r\n",
        "    loss = crossEntropy.masked_select(mask).mean()\r\n",
        "    loss = loss.to(device)\r\n",
        "    return loss, nTotal.item()"
      ],
      "execution_count": null,
      "outputs": []
    },
    {
      "cell_type": "markdown",
      "metadata": {
        "id": "sLpmxOQotIys"
      },
      "source": [
        "### Train"
      ]
    },
    {
      "cell_type": "markdown",
      "metadata": {
        "id": "lgfkBrWXtNkG"
      },
      "source": [
        "#### single loop train"
      ]
    },
    {
      "cell_type": "code",
      "metadata": {
        "id": "wZ2-5_LUtMXK"
      },
      "source": [
        "def train(input_variable, lengths, target_variable, mask, max_target_len, encoder, decoder, embedding,\r\n",
        "          encoder_optimizer, decoder_optimizer, batch_size, clip, max_length=MAX_LENGTH):\r\n",
        "\r\n",
        "    # Zero gradients\r\n",
        "    encoder_optimizer.zero_grad()\r\n",
        "    decoder_optimizer.zero_grad()\r\n",
        "\r\n",
        "    # Set device options\r\n",
        "    input_variable = input_variable.to(device)\r\n",
        "    target_variable = target_variable.to(device)\r\n",
        "    mask = mask.to(device)\r\n",
        "    # Lengths for rnn packing should always be on the cpu\r\n",
        "    lengths = lengths.to(\"cpu\")\r\n",
        "\r\n",
        "    # Initialize variables\r\n",
        "    loss = 0\r\n",
        "    print_losses = []\r\n",
        "    n_totals = 0\r\n",
        "\r\n",
        "    # Forward pass through encoder\r\n",
        "    encoder_outputs, encoder_hidden = encoder(input_variable, lengths)\r\n",
        "\r\n",
        "    # Create initial decoder input (start with SOS tokens for each sentence)\r\n",
        "    decoder_input = torch.LongTensor([[SOS_token for _ in range(batch_size)]])\r\n",
        "    decoder_input = decoder_input.to(device)\r\n",
        "\r\n",
        "    # Set initial decoder hidden state to the encoder's final hidden state\r\n",
        "    decoder_hidden = encoder_hidden[:decoder.n_layers]\r\n",
        "\r\n",
        "    # Determine if we are using teacher forcing this iteration\r\n",
        "    use_teacher_forcing = True if random.random() < teacher_forcing_ratio else False\r\n",
        "\r\n",
        "    # Forward batch of sequences through decoder one time step at a time\r\n",
        "    if use_teacher_forcing:\r\n",
        "        for t in range(max_target_len):\r\n",
        "            decoder_output, decoder_hidden = decoder(\r\n",
        "                decoder_input, decoder_hidden, encoder_outputs\r\n",
        "            )\r\n",
        "            # Teacher forcing: next input is current target\r\n",
        "            decoder_input = target_variable[t].view(1, -1)\r\n",
        "            # Calculate and accumulate loss\r\n",
        "            mask_loss, nTotal = maskNLLLoss(decoder_output, target_variable[t], mask[t])\r\n",
        "            loss += mask_loss\r\n",
        "            print_losses.append(mask_loss.item() * nTotal)\r\n",
        "            n_totals += nTotal\r\n",
        "    else:\r\n",
        "        for t in range(max_target_len):\r\n",
        "            decoder_output, decoder_hidden = decoder(\r\n",
        "                decoder_input, decoder_hidden, encoder_outputs\r\n",
        "            )\r\n",
        "            # No teacher forcing: next input is decoder's own current output\r\n",
        "            _, topi = decoder_output.topk(1)\r\n",
        "            decoder_input = torch.LongTensor([[topi[i][0] for i in range(batch_size)]])\r\n",
        "            decoder_input = decoder_input.to(device)\r\n",
        "            # Calculate and accumulate loss\r\n",
        "            mask_loss, nTotal = maskNLLLoss(decoder_output, target_variable[t], mask[t])\r\n",
        "            loss += mask_loss\r\n",
        "            print_losses.append(mask_loss.item() * nTotal)\r\n",
        "            n_totals += nTotal\r\n",
        "\r\n",
        "    # Perform backpropatation\r\n",
        "    loss.backward()\r\n",
        "\r\n",
        "    # Clip gradients: gradients are modified in place\r\n",
        "    _ = nn.utils.clip_grad_norm_(encoder.parameters(), clip)\r\n",
        "    _ = nn.utils.clip_grad_norm_(decoder.parameters(), clip)\r\n",
        "\r\n",
        "    # Adjust model weights\r\n",
        "    encoder_optimizer.step()\r\n",
        "    decoder_optimizer.step()\r\n",
        "\r\n",
        "    return sum(print_losses) / n_totals"
      ],
      "execution_count": null,
      "outputs": []
    },
    {
      "cell_type": "markdown",
      "metadata": {
        "id": "-cwz_wPitZwA"
      },
      "source": [
        "#### Train iteration"
      ]
    },
    {
      "cell_type": "code",
      "metadata": {
        "id": "2OTaaNO5tTp3"
      },
      "source": [
        "def trainIters(model_name, voc, pairs, encoder, decoder, encoder_optimizer, decoder_optimizer, embedding, encoder_n_layers, decoder_n_layers, save_dir, n_iteration, batch_size, print_every, save_every, clip, corpus_name, loadFilename):\r\n",
        "\r\n",
        "    # Load batches for each iteration\r\n",
        "    training_batches = [batch2TrainData(voc, [random.choice(pairs) for _ in range(batch_size)])\r\n",
        "                      for _ in range(n_iteration)]\r\n",
        "\r\n",
        "    # Initializations\r\n",
        "    print('Initializing ...')\r\n",
        "    start_iteration = 1\r\n",
        "    print_loss = 0\r\n",
        "    if loadFilename:\r\n",
        "        start_iteration = checkpoint['iteration'] + 1\r\n",
        "\r\n",
        "    # Training loop\r\n",
        "    print(\"Training...\")\r\n",
        "    for iteration in range(start_iteration, n_iteration + 1):\r\n",
        "        training_batch = training_batches[iteration - 1]\r\n",
        "        # Extract fields from batch\r\n",
        "        input_variable, lengths, target_variable, mask, max_target_len = training_batch\r\n",
        "\r\n",
        "        # Run a training iteration with batch\r\n",
        "        loss = train(input_variable, lengths, target_variable, mask, max_target_len, encoder,\r\n",
        "                     decoder, embedding, encoder_optimizer, decoder_optimizer, batch_size, clip)\r\n",
        "        print_loss += loss\r\n",
        "\r\n",
        "        # Print progress\r\n",
        "        if iteration % print_every == 0:\r\n",
        "            print_loss_avg = print_loss / print_every\r\n",
        "            print(\"Iteration: {}; Percent complete: {:.1f}%; Average loss: {:.4f}\".format(iteration, iteration / n_iteration * 100, print_loss_avg))\r\n",
        "            print_loss = 0\r\n",
        "\r\n",
        "        # Save checkpoint\r\n",
        "        if (iteration % save_every == 0):\r\n",
        "            directory = os.path.join(save_dir, model_name, corpus_name, '{}-{}_{}'.format(encoder_n_layers, decoder_n_layers, hidden_size))\r\n",
        "            if not os.path.exists(directory):\r\n",
        "                os.makedirs(directory)\r\n",
        "            torch.save({\r\n",
        "                'iteration': iteration,\r\n",
        "                'en': encoder.state_dict(),\r\n",
        "                'de': decoder.state_dict(),\r\n",
        "                'en_opt': encoder_optimizer.state_dict(),\r\n",
        "                'de_opt': decoder_optimizer.state_dict(),\r\n",
        "                'loss': loss,\r\n",
        "                'voc_dict': voc.__dict__,\r\n",
        "                'embedding': embedding.state_dict()\r\n",
        "            }, os.path.join(directory, '{}_{}.tar'.format(iteration, 'checkpoint')))"
      ],
      "execution_count": null,
      "outputs": []
    },
    {
      "cell_type": "markdown",
      "metadata": {
        "id": "xPm0IrGIvODb"
      },
      "source": [
        "#### To go"
      ]
    },
    {
      "cell_type": "code",
      "metadata": {
        "id": "jZ0trbL0ggbs"
      },
      "source": [
        "# model_name = 'cb_model'\r\n",
        "# attn_model = 'dot'\r\n",
        "#attn_model = 'general'\r\n",
        "#attn_model = 'concat'\r\n",
        "# hidden_size = 500\r\n",
        "# encoder_n_layers = 2\r\n",
        "# decoder_n_layers = 2\r\n",
        "# dropout = 0.1\r\n",
        "# batch_size = 64\r\n",
        "\r\n",
        "\r\n",
        "# Load model if a loadFilename is provided\r\n",
        "if loadFilename:\r\n",
        "    # If loading on same machine the model was trained on\r\n",
        "    checkpoint = torch.load(loadFilename)\r\n",
        "    # If loading a model trained on GPU to CPU\r\n",
        "    #checkpoint = torch.load(loadFilename, map_location=torch.device('cpu'))\r\n",
        "    encoder_sd = checkpoint['en']\r\n",
        "    decoder_sd = checkpoint['de']\r\n",
        "    encoder_optimizer_sd = checkpoint['en_opt']\r\n",
        "    decoder_optimizer_sd = checkpoint['de_opt']\r\n",
        "    embedding_sd = checkpoint['embedding']\r\n",
        "    voc.__dict__ = checkpoint['voc_dict']\r\n",
        "\r\n",
        "\r\n",
        "print('Building encoder and decoder ...')\r\n",
        "# Initialize word embeddings\r\n",
        "embedding = nn.Embedding(voc.num_words, hidden_size)\r\n",
        "if loadFilename:\r\n",
        "    embedding.load_state_dict(embedding_sd)\r\n",
        "# Initialize encoder & decoder models\r\n",
        "encoder = EncoderRNN(hidden_size, embedding, encoder_n_layers, dropout)\r\n",
        "decoder = LuongAttnDecoderRNN(attn_model, embedding, hidden_size, voc.num_words, decoder_n_layers, dropout)\r\n",
        "if loadFilename:\r\n",
        "    encoder.load_state_dict(encoder_sd)\r\n",
        "    decoder.load_state_dict(decoder_sd)\r\n",
        "# Use appropriate device\r\n",
        "encoder = encoder.to(device)\r\n",
        "decoder = decoder.to(device)\r\n",
        "print('Models built and ready to go!')"
      ],
      "execution_count": null,
      "outputs": []
    },
    {
      "cell_type": "markdown",
      "metadata": {
        "id": "Ja2XUjwBvQWO"
      },
      "source": [
        "#### Configure and train"
      ]
    },
    {
      "cell_type": "code",
      "metadata": {
        "id": "auuaYKjVjP1S"
      },
      "source": [
        "# Configure training/optimization\r\n",
        "clip = 50.0\r\n",
        "teacher_forcing_ratio = 1.0\r\n",
        "learning_rate = 0.0001\r\n",
        "decoder_learning_ratio = 5.0\r\n",
        "n_iteration = 4000\r\n",
        "print_every = 1\r\n",
        "save_every = 500\r\n",
        "\r\n",
        "# Ensure dropout layers are in train mode\r\n",
        "encoder.train()\r\n",
        "decoder.train()\r\n",
        "\r\n",
        "# Initialize optimizers\r\n",
        "print('Building optimizers ...')\r\n",
        "encoder_optimizer = optim.Adam(encoder.parameters(), lr=learning_rate)\r\n",
        "decoder_optimizer = optim.Adam(decoder.parameters(), lr=learning_rate * decoder_learning_ratio)\r\n",
        "if loadFilename:\r\n",
        "    encoder_optimizer.load_state_dict(encoder_optimizer_sd)\r\n",
        "    decoder_optimizer.load_state_dict(decoder_optimizer_sd)\r\n",
        "\r\n",
        "# If you have cuda, configure cuda to call\r\n",
        "for state in encoder_optimizer.state.values():\r\n",
        "    for k, v in state.items():\r\n",
        "        if isinstance(v, torch.Tensor):\r\n",
        "            state[k] = v.cuda()\r\n",
        "\r\n",
        "for state in decoder_optimizer.state.values():\r\n",
        "    for k, v in state.items():\r\n",
        "        if isinstance(v, torch.Tensor):\r\n",
        "            state[k] = v.cuda()\r\n",
        "\r\n",
        "# Run training iterations\r\n",
        "print(\"Starting Training!\")\r\n",
        "trainIters(model_name, voc, pairs, encoder, decoder, encoder_optimizer, decoder_optimizer,\r\n",
        "           embedding, encoder_n_layers, decoder_n_layers, save_dir, n_iteration, batch_size,\r\n",
        "           print_every, save_every, clip, corpus_name, loadFilename)"
      ],
      "execution_count": null,
      "outputs": []
    }
  ]
}