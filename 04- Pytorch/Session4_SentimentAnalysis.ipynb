{
  "nbformat": 4,
  "nbformat_minor": 0,
  "metadata": {
    "colab": {
      "name": "Session4_SentimentAnalysis.ipynb",
      "provenance": [],
      "collapsed_sections": [],
      "authorship_tag": "ABX9TyMjj5lw39H0XQyKY9TiQ6cq",
      "include_colab_link": true
    },
    "kernelspec": {
      "name": "python3",
      "display_name": "Python 3"
    },
    "accelerator": "GPU"
  },
  "cells": [
    {
      "cell_type": "markdown",
      "metadata": {
        "id": "view-in-github",
        "colab_type": "text"
      },
      "source": [
        "<a href=\"https://colab.research.google.com/github/Shashank-Holla/TSAI-END-Program/blob/main/04-%20Pytorch/Session4_SentimentAnalysis.ipynb\" target=\"_parent\"><img src=\"https://colab.research.google.com/assets/colab-badge.svg\" alt=\"Open In Colab\"/></a>"
      ]
    },
    {
      "cell_type": "markdown",
      "metadata": {
        "id": "GhLpuRN0gAnJ"
      },
      "source": [
        "# Sentiment Analysis\n",
        "\n",
        "Objective of this assignment is to train a bidirectional LSTM to predict movie sentiment."
      ]
    },
    {
      "cell_type": "markdown",
      "metadata": {
        "id": "oEmiNm5cUohq"
      },
      "source": [
        "### Import necessary packages"
      ]
    },
    {
      "cell_type": "code",
      "metadata": {
        "id": "nmHeq1GX6-ej"
      },
      "source": [
        "import torch\n",
        "from torchtext import data, datasets\n",
        "import random\n",
        "import torch.nn as nn\n",
        "import torch.nn.functional as F\n",
        "from torchsummary import summary"
      ],
      "execution_count": 1,
      "outputs": []
    },
    {
      "cell_type": "code",
      "metadata": {
        "id": "Uvr9GG5mk3HF",
        "colab": {
          "base_uri": "https://localhost:8080/"
        },
        "outputId": "5abb04d5-b3d4-4555-d66b-e050869bdb6a"
      },
      "source": [
        "print(torch.__version__)"
      ],
      "execution_count": 2,
      "outputs": [
        {
          "output_type": "stream",
          "text": [
            "1.7.0+cu101\n"
          ],
          "name": "stdout"
        }
      ]
    },
    {
      "cell_type": "code",
      "metadata": {
        "id": "wVXb5Az5U-lk"
      },
      "source": [
        "SEED = 1234\n",
        "\n",
        "torch.manual_seed(SEED)\n",
        "torch.backends.cudnn.deterministic = True"
      ],
      "execution_count": 3,
      "outputs": []
    },
    {
      "cell_type": "markdown",
      "metadata": {
        "id": "PzHbtr70VCXi"
      },
      "source": [
        "### Prepare dataset"
      ]
    },
    {
      "cell_type": "code",
      "metadata": {
        "id": "qOYN8mQVU_g0"
      },
      "source": [
        "TEXT = data.Field(tokenize= 'spacy', include_lengths=True)\n",
        "LABEL = data.LabelField(dtype=torch.float)"
      ],
      "execution_count": 4,
      "outputs": []
    },
    {
      "cell_type": "code",
      "metadata": {
        "id": "KSJHPevCSPOA"
      },
      "source": [
        "train_data, test_data = datasets.IMDB.splits(TEXT, LABEL)"
      ],
      "execution_count": 5,
      "outputs": []
    },
    {
      "cell_type": "code",
      "metadata": {
        "id": "eO5IAjP2Shnv"
      },
      "source": [
        "train_data, valid_data = train_data.split(random_state=random.seed(SEED))"
      ],
      "execution_count": 6,
      "outputs": []
    },
    {
      "cell_type": "code",
      "metadata": {
        "id": "KAXq2fAJmw2C",
        "colab": {
          "base_uri": "https://localhost:8080/"
        },
        "outputId": "b53476db-3ab0-42aa-cee7-b54783eee049"
      },
      "source": [
        "print(f'Number of training examples: {len(train_data)}')\n",
        "print(f'Number of validation examples: {len(valid_data)}')\n",
        "print(f'Number of testing examples: {len(test_data)}')"
      ],
      "execution_count": 7,
      "outputs": [
        {
          "output_type": "stream",
          "text": [
            "Number of training examples: 17500\n",
            "Number of validation examples: 7500\n",
            "Number of testing examples: 25000\n"
          ],
          "name": "stdout"
        }
      ]
    },
    {
      "cell_type": "code",
      "metadata": {
        "id": "wxsy1hEdm0oR",
        "colab": {
          "base_uri": "https://localhost:8080/"
        },
        "outputId": "3bf2d4eb-9371-4d25-8ed8-4726983c19a0"
      },
      "source": [
        "# Example - text, label\n",
        "# vars() function returns the __dict__ attribute of the given object.\n",
        "# Dictionary returned {text:[], label:''}\n",
        "print(vars(train_data.examples[0]))"
      ],
      "execution_count": 8,
      "outputs": [
        {
          "output_type": "stream",
          "text": [
            "{'text': ['So', 'you', 'might', 'be', 'reading', 'some', 'of', 'the', 'comments', 'posted', 'on', 'this', 'film', ',', 'and', 'you', 'might', 'be', 'thinking', 'to', 'yourself', ',', '\"', 'Huh', '.', 'There', 'were', 'sure', 'a', 'bunch', 'of', 'RAVE', 'REVIEWS', 'posted', 'on', 'December', '30', '.', '\"', 'Funny', 'thing', 'is', ',', 'most', 'of', 'these', 'rave', 'reviews', 'sound', 'like', 'they', \"'re\", 'coming', 'from', 'the', 'same', 'person', ',', 'or', 'at', 'best', 'a', 'small', ',', 'coordinated', 'group', 'of', '\"', 'Open', 'House', '\"', 'groupies', '.', 'The', 'truth', ',', 'my', 'friends', ',', 'is', 'that', 'this', 'film', 'is', 'truly', 'unwatchable', '.', 'Just', 'because', 'it', \"'s\", '\"', 'independent', '\"', 'does', \"n't\", 'mean', 'it', 'gets', 'a', 'free', 'pass', '.', 'If', 'you', \"'re\", 'going', 'to', 'make', 'a', 'musical', ',', 'whether', 'on', 'film', 'or', 'on', 'stage', ',', 'whether', 'on', 'Broadway', 'or', 'at', 'the', 'local', 'community', 'playhouse', ',', 'you', 'should', 'probably', 'make', 'sure', 'that', '(', 'a.', ')', 'your', 'actors', 'can', 'sing', ',', '(', 'b.', ')', 'your', 'actors', 'can', 'dance', ',', '(', 'c.', ')', 'you', 'have', 'decent', 'sound', 'equipment', ',', '(', 'd.', ')', 'you', 'have', 'a', 'well', '-', 'written', 'score', ',', 'and', '(', 'e.', ')', 'you', 'have', 'lyrics', 'that', 'are', 'witty', 'and', 'charming', '.', 'Even', 'Anthony', 'Rapp', 'ca', \"n't\", 'save', 'this', 'one', '.', 'It', \"'s\", 'one', 'of', 'those', 'unfortunate', 'movie', '-', 'going', 'experiences', 'where', 'I', 'actually', 'felt', 'deeply', 'embarrassed', 'for', 'everyone', 'involved', '.'], 'label': 'neg'}\n"
          ],
          "name": "stdout"
        }
      ]
    },
    {
      "cell_type": "markdown",
      "metadata": {
        "id": "9TmTjDHL1fj0"
      },
      "source": [
        "### Prepare reversed text for training data."
      ]
    },
    {
      "cell_type": "code",
      "metadata": {
        "id": "IUsCMJs2y4Lq"
      },
      "source": [
        "for i in range(len(train_data)):\n",
        "  vars(train_data.examples[i]).get('text').reverse()"
      ],
      "execution_count": 9,
      "outputs": []
    },
    {
      "cell_type": "code",
      "metadata": {
        "colab": {
          "base_uri": "https://localhost:8080/"
        },
        "id": "5MO6ri3vy9wC",
        "outputId": "e046af0f-cf3e-4f2d-c8bf-6132f05557bf"
      },
      "source": [
        "print(vars(train_data.examples[0]))"
      ],
      "execution_count": 10,
      "outputs": [
        {
          "output_type": "stream",
          "text": [
            "{'text': ['.', 'involved', 'everyone', 'for', 'embarrassed', 'deeply', 'felt', 'actually', 'I', 'where', 'experiences', 'going', '-', 'movie', 'unfortunate', 'those', 'of', 'one', \"'s\", 'It', '.', 'one', 'this', 'save', \"n't\", 'ca', 'Rapp', 'Anthony', 'Even', '.', 'charming', 'and', 'witty', 'are', 'that', 'lyrics', 'have', 'you', ')', 'e.', '(', 'and', ',', 'score', 'written', '-', 'well', 'a', 'have', 'you', ')', 'd.', '(', ',', 'equipment', 'sound', 'decent', 'have', 'you', ')', 'c.', '(', ',', 'dance', 'can', 'actors', 'your', ')', 'b.', '(', ',', 'sing', 'can', 'actors', 'your', ')', 'a.', '(', 'that', 'sure', 'make', 'probably', 'should', 'you', ',', 'playhouse', 'community', 'local', 'the', 'at', 'or', 'Broadway', 'on', 'whether', ',', 'stage', 'on', 'or', 'film', 'on', 'whether', ',', 'musical', 'a', 'make', 'to', 'going', \"'re\", 'you', 'If', '.', 'pass', 'free', 'a', 'gets', 'it', 'mean', \"n't\", 'does', '\"', 'independent', '\"', \"'s\", 'it', 'because', 'Just', '.', 'unwatchable', 'truly', 'is', 'film', 'this', 'that', 'is', ',', 'friends', 'my', ',', 'truth', 'The', '.', 'groupies', '\"', 'House', 'Open', '\"', 'of', 'group', 'coordinated', ',', 'small', 'a', 'best', 'at', 'or', ',', 'person', 'same', 'the', 'from', 'coming', \"'re\", 'they', 'like', 'sound', 'reviews', 'rave', 'these', 'of', 'most', ',', 'is', 'thing', 'Funny', '\"', '.', '30', 'December', 'on', 'posted', 'REVIEWS', 'RAVE', 'of', 'bunch', 'a', 'sure', 'were', 'There', '.', 'Huh', '\"', ',', 'yourself', 'to', 'thinking', 'be', 'might', 'you', 'and', ',', 'film', 'this', 'on', 'posted', 'comments', 'the', 'of', 'some', 'reading', 'be', 'might', 'you', 'So'], 'label': 'neg'}\n"
          ],
          "name": "stdout"
        }
      ]
    },
    {
      "cell_type": "markdown",
      "metadata": {
        "id": "BTRrPG7EZjKI"
      },
      "source": [
        "### Use pre-trained word embeddings"
      ]
    },
    {
      "cell_type": "code",
      "metadata": {
        "id": "symZBb1Gm8S4"
      },
      "source": [
        "MAX_VOCAB_SIZE = 25_000\n",
        "TEXT.build_vocab(train_data, max_size = MAX_VOCAB_SIZE, vectors = \"glove.6B.100d\", unk_init = torch.Tensor.normal_)\n",
        "LABEL.build_vocab(train_data)"
      ],
      "execution_count": 11,
      "outputs": []
    },
    {
      "cell_type": "code",
      "metadata": {
        "id": "Zs2oJHs5khic",
        "colab": {
          "base_uri": "https://localhost:8080/"
        },
        "outputId": "cf381772-5058-4e48-9f0e-edec82858907"
      },
      "source": [
        "BATCH_SIZE = 64\n",
        "\n",
        "device = torch.device(\"cuda\" if torch.cuda.is_available() else \"cpu\")\n",
        "print(\"Is Cuda available? :\", torch.cuda.is_available())\n",
        "\n",
        "train_iterator, valid_iterator, test_iterator = data.BucketIterator.splits(\n",
        "    (train_data, valid_data, test_data),\n",
        "    batch_size = BATCH_SIZE,\n",
        "    sort_within_batch = True,\n",
        "    device = device\n",
        ")"
      ],
      "execution_count": 12,
      "outputs": [
        {
          "output_type": "stream",
          "text": [
            "Is Cuda available? : True\n"
          ],
          "name": "stdout"
        }
      ]
    },
    {
      "cell_type": "markdown",
      "metadata": {
        "id": "Y8QrVL_qmuw1"
      },
      "source": [
        "### Model build"
      ]
    },
    {
      "cell_type": "code",
      "metadata": {
        "id": "kdn5KJhnmxkE"
      },
      "source": [
        "class RNN(nn.Module):\n",
        "    def __init__(self, vocab_size, embedding_dim, hidden_dim, output_dim, n_layers, bidirectional, dropout, pad_idx):\n",
        "        super(RNN, self).__init__()\n",
        "        self.embedding = nn.Embedding(num_embeddings=vocab_size, embedding_dim=embedding_dim, padding_idx=pad_idx)\n",
        "        # self.rnn = nn.LSTM(input_size=embedding_dim, hidden_size=hidden_dim, num_layers=n_layers, dropout=dropout, bidirectional=bidirectional)\n",
        "        \n",
        "        # Creating stacked LSTMs by adding single layered LSTMs\n",
        "        self.rnn = nn.ModuleList()\n",
        "        for i in range(n_layers):\n",
        "            input_size = embedding_dim if i==0 else hidden_dim*2\n",
        "            self.rnn.append(nn.LSTM(input_size=input_size, hidden_size=hidden_dim, num_layers=1, bidirectional=bidirectional))\n",
        "\n",
        "\n",
        "        self.fc = nn.Linear(hidden_dim*2, output_dim)\n",
        "        self.dropout = nn.Dropout(dropout)\n",
        "        # self.dropout_inplace = nn.Dropout(p=dropout, inplace=True)\n",
        "    \n",
        "    def forward(self, text, text_lengths):\n",
        "        #text = [sent len, batch size]\n",
        "        embedded = self.dropout(self.embedding(text))\n",
        "        #embedded = [sent len, batch size, emb dim]\n",
        "\n",
        "        packed_embedded = nn.utils.rnn.pack_padded_sequence(embedded, text_lengths)\n",
        "\n",
        "        # LSTM\n",
        "        # packed_output, (hidden, cell) = self.rnn(packed_embedded)\n",
        "        # Implementing multilayered LSTM by for loop. Dropout is applied after every LSTM layer, except the last one.\n",
        "        packed_output = packed_embedded\n",
        "        for i in range(len(self.rnn)):\n",
        "            if i == 0:\n",
        "                packed_output, (hidden, cell) = self.rnn[i](packed_output)\n",
        "            else:\n",
        "                packed_output, (hidden, cell) = self.rnn[i](packed_output, (hidden, cell))\n",
        "            if i != len(self.rnn)-1:\n",
        "                output, output_lengths = nn.utils.rnn.pad_packed_sequence(packed_output)\n",
        "                packed_output = nn.utils.rnn.pack_padded_sequence(self.dropout(output), output_lengths)\n",
        "\n",
        "        # Unpack sequence\n",
        "        output, output_lengths = nn.utils.rnn.pad_packed_sequence(packed_output)\n",
        "        #output = [sent len, batch size, hid dim * num directions]\n",
        "\n",
        "        #hidden = [num layers * num directions, batch size, hid dim]\n",
        "        #cell = [num layers * num directions, batch size, hid dim]\n",
        "        #concat the final forward (hidden[-2,:,:]) and backward (hidden[-1,:,:]) hidden layers\n",
        "        hidden = self.dropout(torch.cat((hidden[-2,:,:], hidden[-1,:,:]), dim = 1))\n",
        "        #hidden = [batch size, hid dim * num directions]\n",
        "            \n",
        "        return self.fc(hidden)\n"
      ],
      "execution_count": 13,
      "outputs": []
    },
    {
      "cell_type": "code",
      "metadata": {
        "id": "Q9NQlyEzLWWl"
      },
      "source": [
        "INPUT_DIM = len(TEXT.vocab)\n",
        "EMBEDDING_DIM = 100\n",
        "HIDDEN_DIM = 256\n",
        "OUTPUT_DIM = 1\n",
        "N_LAYERS = 3\n",
        "BIDIRECTIONAL = True\n",
        "DROPOUT = 0.2\n",
        "PAD_IDX = TEXT.vocab.stoi[TEXT.pad_token]\n",
        "\n",
        "model = RNN(INPUT_DIM, EMBEDDING_DIM, HIDDEN_DIM, OUTPUT_DIM, N_LAYERS, BIDIRECTIONAL, DROPOUT, PAD_IDX)"
      ],
      "execution_count": 14,
      "outputs": []
    },
    {
      "cell_type": "code",
      "metadata": {
        "colab": {
          "base_uri": "https://localhost:8080/"
        },
        "id": "PmpdFdq4IlqM",
        "outputId": "03c84f6d-e3de-4db0-f318-06c43c220b74"
      },
      "source": [
        "model"
      ],
      "execution_count": 26,
      "outputs": [
        {
          "output_type": "execute_result",
          "data": {
            "text/plain": [
              "RNN(\n",
              "  (embedding): Embedding(25002, 100, padding_idx=1)\n",
              "  (rnn): ModuleList(\n",
              "    (0): LSTM(100, 256, bidirectional=True)\n",
              "    (1): LSTM(512, 256, bidirectional=True)\n",
              "    (2): LSTM(512, 256, bidirectional=True)\n",
              "  )\n",
              "  (fc): Linear(in_features=512, out_features=1, bias=True)\n",
              "  (dropout): Dropout(p=0.2, inplace=False)\n",
              ")"
            ]
          },
          "metadata": {
            "tags": []
          },
          "execution_count": 26
        }
      ]
    },
    {
      "cell_type": "code",
      "metadata": {
        "id": "HwD9KjKqLfM-",
        "colab": {
          "base_uri": "https://localhost:8080/"
        },
        "outputId": "d1ecdcd8-3e8c-4a44-b20d-326880ffa6fd"
      },
      "source": [
        "def count_parameters(model):\n",
        "    return sum(p.numel() for p in model.parameters() if p.requires_grad)\n",
        "\n",
        "print(f'The model has {count_parameters(model):,} trainable parameters')"
      ],
      "execution_count": 15,
      "outputs": [
        {
          "output_type": "stream",
          "text": [
            "The model has 6,387,817 trainable parameters\n"
          ],
          "name": "stdout"
        }
      ]
    },
    {
      "cell_type": "markdown",
      "metadata": {
        "id": "a1cUNNxtNEk3"
      },
      "source": [
        "Load pre-trained embeddings to the model's embedding layer. Shape = [vocab_size, embedding_dim]"
      ]
    },
    {
      "cell_type": "code",
      "metadata": {
        "id": "h4j2fqvZNLuU",
        "colab": {
          "base_uri": "https://localhost:8080/"
        },
        "outputId": "17f14ce4-a694-4efb-ecf4-d74e2d7ce99f"
      },
      "source": [
        "pretrained_embeddings = TEXT.vocab.vectors\n",
        "\n",
        "print(pretrained_embeddings.shape)"
      ],
      "execution_count": 16,
      "outputs": [
        {
          "output_type": "stream",
          "text": [
            "torch.Size([25002, 100])\n"
          ],
          "name": "stdout"
        }
      ]
    },
    {
      "cell_type": "code",
      "metadata": {
        "id": "l9iVpIFxNWDG",
        "colab": {
          "base_uri": "https://localhost:8080/"
        },
        "outputId": "99863ad7-5910-4d26-f98f-d9a469334be1"
      },
      "source": [
        "model.embedding.weight.data.copy_(pretrained_embeddings)"
      ],
      "execution_count": 17,
      "outputs": [
        {
          "output_type": "execute_result",
          "data": {
            "text/plain": [
              "tensor([[-0.1117, -0.4966,  0.1631,  ...,  1.2647, -0.2753, -0.1325],\n",
              "        [-0.8555, -0.7208,  1.3755,  ...,  0.0825, -1.1314,  0.3997],\n",
              "        [-0.0382, -0.2449,  0.7281,  ..., -0.1459,  0.8278,  0.2706],\n",
              "        ...,\n",
              "        [-0.3970,  0.4024,  1.0612,  ..., -0.0136, -0.3363,  0.6442],\n",
              "        [-0.5197,  1.0395,  0.2092,  ..., -0.8857, -0.2294,  0.1244],\n",
              "        [ 0.0057, -0.0707, -0.0804,  ..., -0.3292, -0.0130,  0.0716]])"
            ]
          },
          "metadata": {
            "tags": []
          },
          "execution_count": 17
        }
      ]
    },
    {
      "cell_type": "markdown",
      "metadata": {
        "id": "fd20buWOOIGf"
      },
      "source": [
        "<UNK> and <PAD> tokens are initialized using Normal distribution during vocab build. Initialize them to zero vectors."
      ]
    },
    {
      "cell_type": "code",
      "metadata": {
        "id": "oHEU8EE6NhYX",
        "colab": {
          "base_uri": "https://localhost:8080/"
        },
        "outputId": "bfa8fcfa-8fb8-4fa8-8060-e3ed3aad9c62"
      },
      "source": [
        "UNK_IDX = TEXT.vocab.stoi[TEXT.unk_token]\n",
        "\n",
        "model.embedding.weight.data[UNK_IDX] = torch.zeros(EMBEDDING_DIM)\n",
        "model.embedding.weight.data[PAD_IDX] = torch.zeros(EMBEDDING_DIM)\n",
        "\n",
        "print(model.embedding.weight.data)"
      ],
      "execution_count": 18,
      "outputs": [
        {
          "output_type": "stream",
          "text": [
            "tensor([[ 0.0000,  0.0000,  0.0000,  ...,  0.0000,  0.0000,  0.0000],\n",
            "        [ 0.0000,  0.0000,  0.0000,  ...,  0.0000,  0.0000,  0.0000],\n",
            "        [-0.0382, -0.2449,  0.7281,  ..., -0.1459,  0.8278,  0.2706],\n",
            "        ...,\n",
            "        [-0.3970,  0.4024,  1.0612,  ..., -0.0136, -0.3363,  0.6442],\n",
            "        [-0.5197,  1.0395,  0.2092,  ..., -0.8857, -0.2294,  0.1244],\n",
            "        [ 0.0057, -0.0707, -0.0804,  ..., -0.3292, -0.0130,  0.0716]])\n"
          ],
          "name": "stdout"
        }
      ]
    },
    {
      "cell_type": "markdown",
      "metadata": {
        "id": "s-9uF4e1Or9_"
      },
      "source": [
        "### Train the model"
      ]
    },
    {
      "cell_type": "code",
      "metadata": {
        "id": "6Z0abxO4OtOd"
      },
      "source": [
        "import torch.optim as optim\n",
        "\n",
        "optimizer = optim.Adam(model.parameters())"
      ],
      "execution_count": 19,
      "outputs": []
    },
    {
      "cell_type": "code",
      "metadata": {
        "id": "2id-XIieOwtg"
      },
      "source": [
        "criterion = nn.BCEWithLogitsLoss()\n",
        "\n",
        "model = model.to(device)\n",
        "criterion = criterion.to(device)"
      ],
      "execution_count": 20,
      "outputs": []
    },
    {
      "cell_type": "code",
      "metadata": {
        "id": "BnNreksCOy34"
      },
      "source": [
        "def binary_accuracy(preds, y):\n",
        "    \"\"\"\n",
        "    Returns accuracy per batch, i.e. if you get 8/10 right, this returns 0.8, NOT 8\n",
        "    \"\"\"\n",
        "\n",
        "    #round predictions to the closest integer\n",
        "    rounded_preds = torch.round(torch.sigmoid(preds))\n",
        "    correct = (rounded_preds == y).float() #convert into float for division \n",
        "    acc = correct.sum() / len(correct)\n",
        "    return acc"
      ],
      "execution_count": 21,
      "outputs": []
    },
    {
      "cell_type": "code",
      "metadata": {
        "id": "f7VaXEpFO1Og"
      },
      "source": [
        "def train(model, iterator, optimizer, criterion):\n",
        "    \n",
        "    epoch_loss = 0\n",
        "    epoch_acc = 0    \n",
        "    model.train()\n",
        "    \n",
        "    for batch in iterator:        \n",
        "        optimizer.zero_grad()\n",
        "        \n",
        "        text, text_lengths = batch.text \n",
        "        text = text.to(device)\n",
        "        # text_lengths needs to be on cpu - https://github.com/pytorch/pytorch/issues/43227\n",
        "        text_lengths = text_lengths.cpu()       \n",
        "        predictions = model(text, text_lengths).squeeze(1)\n",
        "        \n",
        "        loss = criterion(predictions, batch.label)       \n",
        "        acc = binary_accuracy(predictions, batch.label)\n",
        "        \n",
        "        loss.backward()        \n",
        "        optimizer.step()\n",
        "        \n",
        "        epoch_loss += loss.item()\n",
        "        epoch_acc += acc.item()\n",
        "        \n",
        "    return epoch_loss / len(iterator), epoch_acc / len(iterator)"
      ],
      "execution_count": 22,
      "outputs": []
    },
    {
      "cell_type": "code",
      "metadata": {
        "id": "f-8sL0IRPUyw"
      },
      "source": [
        "def evaluate(model, iterator, criterion):\n",
        "    \n",
        "    epoch_loss = 0\n",
        "    epoch_acc = 0    \n",
        "    model.eval()\n",
        "    \n",
        "    with torch.no_grad():    \n",
        "        for batch in iterator:\n",
        "            text, text_lengths = batch.text\n",
        "            text = text.to(device)\n",
        "            text_lengths = text_lengths.cpu()\n",
        "                        \n",
        "            predictions = model(text, text_lengths).squeeze(1)\n",
        "            \n",
        "            loss = criterion(predictions, batch.label)            \n",
        "            acc = binary_accuracy(predictions, batch.label)\n",
        "\n",
        "            epoch_loss += loss.item()\n",
        "            epoch_acc += acc.item()\n",
        "        \n",
        "    return epoch_loss / len(iterator), epoch_acc / len(iterator)"
      ],
      "execution_count": 23,
      "outputs": []
    },
    {
      "cell_type": "code",
      "metadata": {
        "id": "8M3proTPPggQ"
      },
      "source": [
        "import time\n",
        "\n",
        "def epoch_time(start_time, end_time):\n",
        "    elapsed_time = end_time - start_time\n",
        "    elapsed_mins = int(elapsed_time / 60)\n",
        "    elapsed_secs = int(elapsed_time - (elapsed_mins * 60))\n",
        "    return elapsed_mins, elapsed_secs"
      ],
      "execution_count": 24,
      "outputs": []
    },
    {
      "cell_type": "code",
      "metadata": {
        "id": "Cj2TVg3cPjlg",
        "colab": {
          "base_uri": "https://localhost:8080/"
        },
        "outputId": "ba61075a-43e3-4e86-cd9a-ec752d436f94"
      },
      "source": [
        "N_EPOCHS = 20\n",
        "\n",
        "best_valid_loss = float('inf')\n",
        "\n",
        "for epoch in range(N_EPOCHS):\n",
        "\n",
        "    start_time = time.time()\n",
        "    \n",
        "    train_loss, train_acc = train(model, train_iterator, optimizer, criterion)\n",
        "    valid_loss, valid_acc = evaluate(model, valid_iterator, criterion)\n",
        "    \n",
        "    end_time = time.time()\n",
        "\n",
        "    epoch_mins, epoch_secs = epoch_time(start_time, end_time)\n",
        "    \n",
        "    if valid_loss < best_valid_loss:\n",
        "        best_valid_loss = valid_loss\n",
        "        torch.save(model.state_dict(), 'tut2-model.pt')\n",
        "    \n",
        "    print(f'Epoch: {epoch+1:02} | Epoch Time: {epoch_mins}m {epoch_secs}s')\n",
        "    print(f'\\tTrain Loss: {train_loss:.3f} | Train Acc: {train_acc*100:.2f}%')\n",
        "    print(f'\\t Val. Loss: {valid_loss:.3f} |  Val. Acc: {valid_acc*100:.2f}%')"
      ],
      "execution_count": 25,
      "outputs": [
        {
          "output_type": "stream",
          "text": [
            "Epoch: 01 | Epoch Time: 0m 55s\n",
            "\tTrain Loss: 0.636 | Train Acc: 63.30%\n",
            "\t Val. Loss: 0.540 |  Val. Acc: 72.15%\n",
            "Epoch: 02 | Epoch Time: 0m 55s\n",
            "\tTrain Loss: 0.600 | Train Acc: 65.02%\n",
            "\t Val. Loss: 0.695 |  Val. Acc: 54.74%\n",
            "Epoch: 03 | Epoch Time: 0m 55s\n",
            "\tTrain Loss: 0.579 | Train Acc: 69.63%\n",
            "\t Val. Loss: 0.586 |  Val. Acc: 72.89%\n",
            "Epoch: 04 | Epoch Time: 0m 55s\n",
            "\tTrain Loss: 0.336 | Train Acc: 85.89%\n",
            "\t Val. Loss: 0.335 |  Val. Acc: 85.91%\n",
            "Epoch: 05 | Epoch Time: 0m 55s\n",
            "\tTrain Loss: 0.227 | Train Acc: 91.34%\n",
            "\t Val. Loss: 0.332 |  Val. Acc: 85.91%\n",
            "Epoch: 06 | Epoch Time: 0m 55s\n",
            "\tTrain Loss: 0.179 | Train Acc: 93.58%\n",
            "\t Val. Loss: 0.381 |  Val. Acc: 86.07%\n",
            "Epoch: 07 | Epoch Time: 0m 55s\n",
            "\tTrain Loss: 0.134 | Train Acc: 95.43%\n",
            "\t Val. Loss: 0.360 |  Val. Acc: 87.04%\n",
            "Epoch: 08 | Epoch Time: 0m 55s\n",
            "\tTrain Loss: 0.100 | Train Acc: 96.70%\n",
            "\t Val. Loss: 0.393 |  Val. Acc: 88.03%\n",
            "Epoch: 09 | Epoch Time: 0m 55s\n",
            "\tTrain Loss: 0.073 | Train Acc: 97.71%\n",
            "\t Val. Loss: 0.379 |  Val. Acc: 88.26%\n",
            "Epoch: 10 | Epoch Time: 0m 55s\n",
            "\tTrain Loss: 0.053 | Train Acc: 98.46%\n",
            "\t Val. Loss: 0.508 |  Val. Acc: 87.70%\n",
            "Epoch: 11 | Epoch Time: 0m 55s\n",
            "\tTrain Loss: 0.043 | Train Acc: 98.80%\n",
            "\t Val. Loss: 0.508 |  Val. Acc: 86.76%\n",
            "Epoch: 12 | Epoch Time: 0m 55s\n",
            "\tTrain Loss: 0.039 | Train Acc: 98.71%\n",
            "\t Val. Loss: 0.563 |  Val. Acc: 85.79%\n",
            "Epoch: 13 | Epoch Time: 0m 55s\n",
            "\tTrain Loss: 0.032 | Train Acc: 99.02%\n",
            "\t Val. Loss: 0.537 |  Val. Acc: 86.57%\n",
            "Epoch: 14 | Epoch Time: 0m 55s\n",
            "\tTrain Loss: 0.025 | Train Acc: 99.32%\n",
            "\t Val. Loss: 0.589 |  Val. Acc: 87.52%\n",
            "Epoch: 15 | Epoch Time: 0m 55s\n",
            "\tTrain Loss: 0.023 | Train Acc: 99.34%\n",
            "\t Val. Loss: 0.558 |  Val. Acc: 87.32%\n",
            "Epoch: 16 | Epoch Time: 0m 55s\n",
            "\tTrain Loss: 0.019 | Train Acc: 99.47%\n",
            "\t Val. Loss: 0.588 |  Val. Acc: 86.85%\n",
            "Epoch: 17 | Epoch Time: 0m 55s\n",
            "\tTrain Loss: 0.016 | Train Acc: 99.58%\n",
            "\t Val. Loss: 0.618 |  Val. Acc: 87.92%\n",
            "Epoch: 18 | Epoch Time: 0m 55s\n",
            "\tTrain Loss: 0.019 | Train Acc: 99.45%\n",
            "\t Val. Loss: 0.537 |  Val. Acc: 85.79%\n",
            "Epoch: 19 | Epoch Time: 0m 55s\n",
            "\tTrain Loss: 0.013 | Train Acc: 99.64%\n",
            "\t Val. Loss: 0.607 |  Val. Acc: 87.24%\n",
            "Epoch: 20 | Epoch Time: 0m 55s\n",
            "\tTrain Loss: 0.012 | Train Acc: 99.65%\n",
            "\t Val. Loss: 0.664 |  Val. Acc: 86.93%\n"
          ],
          "name": "stdout"
        }
      ]
    },
    {
      "cell_type": "markdown",
      "metadata": {
        "id": "AlOT_YZ1ANDw"
      },
      "source": [
        "### Training on text that is reversed.\n",
        "\n",
        "Training text to the model is tensor of shape (168,64) containing the word id.\n",
        "Batch of text is reversed before sending to model."
      ]
    },
    {
      "cell_type": "code",
      "metadata": {
        "id": "wSRqfnsQ95O-"
      },
      "source": [
        "batch = next(iter(train_iterator))\n",
        "text, text_lengths = batch.text"
      ],
      "execution_count": 27,
      "outputs": []
    },
    {
      "cell_type": "code",
      "metadata": {
        "colab": {
          "base_uri": "https://localhost:8080/"
        },
        "id": "IACC70JI-I_w",
        "outputId": "c4ab770d-4f92-44fa-dfad-014dbcd818bc"
      },
      "source": [
        "print(text.shape)\n",
        "text"
      ],
      "execution_count": 28,
      "outputs": [
        {
          "output_type": "stream",
          "text": [
            "torch.Size([381, 64])\n"
          ],
          "name": "stdout"
        },
        {
          "output_type": "execute_result",
          "data": {
            "text/plain": [
              "tensor([[    4,   557,     4,  ...,     4,     4,     4],\n",
              "        [  410,   165,  3414,  ...,   115,    24,   622],\n",
              "        [   63,    18,  5255,  ...,    20,     6,  4562],\n",
              "        ...,\n",
              "        [   19,  1086,  6931,  ...,     1,     1,     1],\n",
              "        [22631,  1078,   592,  ...,     1,     1,     1],\n",
              "        [24627,    11,    25,  ...,     1,     1,     1]], device='cuda:0')"
            ]
          },
          "metadata": {
            "tags": []
          },
          "execution_count": 28
        }
      ]
    },
    {
      "cell_type": "code",
      "metadata": {
        "colab": {
          "base_uri": "https://localhost:8080/"
        },
        "id": "2ILJ2KDj_P0B",
        "outputId": "3b61c36f-bce7-45ba-ace2-273839d23ff1"
      },
      "source": [
        "torch.fliplr(text)"
      ],
      "execution_count": 29,
      "outputs": [
        {
          "output_type": "execute_result",
          "data": {
            "text/plain": [
              "tensor([[    4,     4,     4,  ...,     4,   557,     4],\n",
              "        [  622,    24,   115,  ...,  3414,   165,   410],\n",
              "        [ 4562,     6,    20,  ...,  5255,    18,    63],\n",
              "        ...,\n",
              "        [    1,     1,     1,  ...,  6931,  1086,    19],\n",
              "        [    1,     1,     1,  ...,   592,  1078, 22631],\n",
              "        [    1,     1,     1,  ...,    25,    11, 24627]], device='cuda:0')"
            ]
          },
          "metadata": {
            "tags": []
          },
          "execution_count": 29
        }
      ]
    },
    {
      "cell_type": "markdown",
      "metadata": {
        "id": "eE-RFIJfpSLL"
      },
      "source": [
        "Epoch: 01 | Epoch Time: 0m 39s\n",
        "\n",
        "\tTrain Loss: 0.668 | Train Acc: 58.62%\n",
        "\t Val. Loss: 0.640 |  Val. Acc: 66.53%\n",
        "\n",
        "Epoch: 02 | Epoch Time: 0m 40s\n",
        "\n",
        "\tTrain Loss: 0.597 | Train Acc: 68.08%\n",
        "\t Val. Loss: 0.512 |  Val. Acc: 76.21%\n",
        "\n",
        "Epoch: 03 | Epoch Time: 0m 40s\n",
        "\n",
        "\tTrain Loss: 0.499 | Train Acc: 76.39%\n",
        "\t Val. Loss: 0.472 |  Val. Acc: 76.07%\n",
        "\n",
        "Epoch: 04 | Epoch Time: 0m 40s\n",
        "\n",
        "\tTrain Loss: 0.468 | Train Acc: 78.68%\n",
        "\t Val. Loss: 0.352 |  Val. Acc: 85.42%\n",
        "\n",
        "Epoch: 05 | Epoch Time: 0m 40s\n",
        "\n",
        "\tTrain Loss: 0.343 | Train Acc: 85.99%\n",
        "\t Val. Loss: 0.292 |  Val. Acc: 88.00%\n",
        "\n",
        "\n",
        "With in-place dropout\n",
        "RuntimeError: one of the variables needed for gradient computation has been modified by an inplace operation: [torch.cuda.FloatTensor [15646, 512]], which is output 0 of CudnnRnnBackward, is at version 1; expected version 0 instead. Hint: enable anomaly detection to find the operation that failed to compute its gradient, with torch.autograd.set_detect_anomaly(True)."
      ]
    }
  ]
}