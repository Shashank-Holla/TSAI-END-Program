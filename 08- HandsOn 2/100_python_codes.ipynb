{
  "nbformat": 4,
  "nbformat_minor": 0,
  "metadata": {
    "colab": {
      "name": "100_python_codes.ipynb",
      "provenance": [],
      "collapsed_sections": [],
      "authorship_tag": "ABX9TyOUUHFbK1yov9e9ffijrK0r",
      "include_colab_link": true
    },
    "kernelspec": {
      "name": "python3",
      "display_name": "Python 3"
    }
  },
  "cells": [
    {
      "cell_type": "markdown",
      "metadata": {
        "id": "view-in-github",
        "colab_type": "text"
      },
      "source": [
        "<a href=\"https://colab.research.google.com/github/Shashank-Holla/TSAI-END-Program/blob/main/08-%20HandsOn%202/100_python_codes.ipynb\" target=\"_parent\"><img src=\"https://colab.research.google.com/assets/colab-badge.svg\" alt=\"Open In Colab\"/></a>"
      ]
    },
    {
      "cell_type": "markdown",
      "metadata": {
        "id": "Lj0HLdev3PbN"
      },
      "source": [
        "1. "
      ]
    },
    {
      "cell_type": "code",
      "metadata": {
        "colab": {
          "base_uri": "https://localhost:8080/"
        },
        "id": "hTNSfPZYjgRU",
        "outputId": "8acb3212-765f-4283-de87-b40755308ad7"
      },
      "source": [
        "# Function to check and print if the given sides of a triangle are of a right angled triangle.\r\n",
        "def right_angled_triangle_check(a, b, c):\r\n",
        "    x = min(a,b,c)\r\n",
        "    z = max(a,b,c)\r\n",
        "    y = (a+b+c) - (x+z)\r\n",
        "    if z**2 == x**2 + y**2:\r\n",
        "        print(\"Right angled triangle\")\r\n",
        "    else:\r\n",
        "        print(\"Not a right angled triangle\")\r\n",
        "\r\n",
        "right_angled_triangle_check(7,3,5)"
      ],
      "execution_count": null,
      "outputs": [
        {
          "output_type": "stream",
          "text": [
            "Not a right angled triangle\n"
          ],
          "name": "stdout"
        }
      ]
    },
    {
      "cell_type": "markdown",
      "metadata": {
        "id": "5S63pDY2v67c"
      },
      "source": [
        "2"
      ]
    },
    {
      "cell_type": "code",
      "metadata": {
        "colab": {
          "base_uri": "https://localhost:8080/"
        },
        "id": "MYTAcwexF7OD",
        "outputId": "8719e3a5-b771-4191-d120-efb8e565da4b"
      },
      "source": [
        "# Function to find radius of a circle given the circumference.\r\n",
        "def find_radius_from_cicumference(circumference):\r\n",
        "    return circumference/(2*3.14)\r\n",
        "\r\n",
        "find_radius_from_cicumference(44)"
      ],
      "execution_count": null,
      "outputs": [
        {
          "output_type": "execute_result",
          "data": {
            "text/plain": [
              "7.006369426751592"
            ]
          },
          "metadata": {
            "tags": []
          },
          "execution_count": 5
        }
      ]
    },
    {
      "cell_type": "markdown",
      "metadata": {
        "id": "UtKOcxJkv9fK"
      },
      "source": [
        "3"
      ]
    },
    {
      "cell_type": "code",
      "metadata": {
        "colab": {
          "base_uri": "https://localhost:8080/"
        },
        "id": "RBSnYWm0HC9P",
        "outputId": "4c657e22-30d8-4f06-d810-819e83eeeb20"
      },
      "source": [
        "# Function to find radius of circle given area of the circle.\r\n",
        "def find_radius_from_area(area):\r\n",
        "    return (area/3.14)**0.5\r\n",
        "\r\n",
        "find_radius_from_area(154) "
      ],
      "execution_count": null,
      "outputs": [
        {
          "output_type": "execute_result",
          "data": {
            "text/plain": [
              "7.003183989248115"
            ]
          },
          "metadata": {
            "tags": []
          },
          "execution_count": 6
        }
      ]
    },
    {
      "cell_type": "markdown",
      "metadata": {
        "id": "tfEqhSJhv_dk"
      },
      "source": [
        "4"
      ]
    },
    {
      "cell_type": "code",
      "metadata": {
        "colab": {
          "base_uri": "https://localhost:8080/"
        },
        "id": "mn5ViB-2H3LU",
        "outputId": "bfff481b-f69f-4ec8-e2cd-50b6bdaf1e51"
      },
      "source": [
        "# Program to central angle given the radius and arc length\r\n",
        "arc_length = 22\r\n",
        "radius = 7\r\n",
        "central_angle = arc_length/radius\r\n",
        "print(\"Central angle :\", central_angle)"
      ],
      "execution_count": null,
      "outputs": [
        {
          "output_type": "stream",
          "text": [
            "Central angle : 3.142857142857143\n"
          ],
          "name": "stdout"
        }
      ]
    },
    {
      "cell_type": "markdown",
      "metadata": {
        "id": "TwYcQ7zTwBnq"
      },
      "source": [
        "5"
      ]
    },
    {
      "cell_type": "code",
      "metadata": {
        "colab": {
          "base_uri": "https://localhost:8080/"
        },
        "id": "A-7AUnP1K5H_",
        "outputId": "c0aa2756-479b-47c9-ad17-23d28281b1c3"
      },
      "source": [
        "# Function to print the area of the maximum possible square inside a circle of given radius\r\n",
        "def find_area_of_square(radius):\r\n",
        "    print(\"Area of maximum possible square: \", (2 * radius**2))\r\n",
        "\r\n",
        "find_area_of_square(5)"
      ],
      "execution_count": null,
      "outputs": [
        {
          "output_type": "stream",
          "text": [
            "Area of maximum possible square:  50\n"
          ],
          "name": "stdout"
        }
      ]
    },
    {
      "cell_type": "markdown",
      "metadata": {
        "id": "Lzf61kX8wEHC"
      },
      "source": [
        "6"
      ]
    },
    {
      "cell_type": "code",
      "metadata": {
        "colab": {
          "base_uri": "https://localhost:8080/"
        },
        "id": "-rA7uswGrFSr",
        "outputId": "2ec94633-3e77-4949-e391-dc49f521774e"
      },
      "source": [
        "# Function to calculate the perimeter of an equilateral triangle given one side.\r\n",
        "def perimeter_equilateral_triangle(side):\r\n",
        "    return 3*side\r\n",
        "\r\n",
        "perimeter_equilateral_triangle(5)"
      ],
      "execution_count": null,
      "outputs": [
        {
          "output_type": "execute_result",
          "data": {
            "text/plain": [
              "15"
            ]
          },
          "metadata": {
            "tags": []
          },
          "execution_count": 4
        }
      ]
    },
    {
      "cell_type": "markdown",
      "metadata": {
        "id": "wK7GzHJzwG1a"
      },
      "source": [
        "7"
      ]
    },
    {
      "cell_type": "code",
      "metadata": {
        "colab": {
          "base_uri": "https://localhost:8080/"
        },
        "id": "N0apnKKdsHzT",
        "outputId": "7ae5ce60-26aa-4f83-a61a-fd50ddd2790e"
      },
      "source": [
        "# Function to calculate area of an equilateral triangle given one side.\r\n",
        "def area_equilateral_triangle(side):\r\n",
        "    return (3**0.5 * side**2)/4\r\n",
        "\r\n",
        "area_equilateral_triangle(4)"
      ],
      "execution_count": null,
      "outputs": [
        {
          "output_type": "execute_result",
          "data": {
            "text/plain": [
              "6.928203230275509"
            ]
          },
          "metadata": {
            "tags": []
          },
          "execution_count": 5
        }
      ]
    },
    {
      "cell_type": "markdown",
      "metadata": {
        "id": "r2K0ASahwI6j"
      },
      "source": [
        "8"
      ]
    },
    {
      "cell_type": "code",
      "metadata": {
        "colab": {
          "base_uri": "https://localhost:8080/"
        },
        "id": "I3tw5TBUs5x0",
        "outputId": "855b08c7-580b-4fd7-92ff-dd2fa03b1b45"
      },
      "source": [
        "# Program to calculate and print area of square given one side of the square\r\n",
        "square_side_length = 10\r\n",
        "area_of_square = square_side_length * square_side_length\r\n",
        "print(f'Area of the square= {area_of_square}')"
      ],
      "execution_count": null,
      "outputs": [
        {
          "output_type": "stream",
          "text": [
            "Area of the square= 100\n"
          ],
          "name": "stdout"
        }
      ]
    },
    {
      "cell_type": "markdown",
      "metadata": {
        "id": "4i5vRtErwK9y"
      },
      "source": [
        "9"
      ]
    },
    {
      "cell_type": "code",
      "metadata": {
        "colab": {
          "base_uri": "https://localhost:8080/"
        },
        "id": "GHiCrvdot-ZU",
        "outputId": "07af2eb2-b649-425e-e456-daa14699760c"
      },
      "source": [
        "# Program to calculate and print area of rectangle given 2 adjacent sides of the rectangle\r\n",
        "side_a = 5\r\n",
        "side_b = 10\r\n",
        "area_of_rectangle = side_a * side_b\r\n",
        "print(f'Area of the rectangle = {area_of_rectangle}') "
      ],
      "execution_count": null,
      "outputs": [
        {
          "output_type": "stream",
          "text": [
            "Area of the rectangle = 50\n"
          ],
          "name": "stdout"
        }
      ]
    },
    {
      "cell_type": "markdown",
      "metadata": {
        "id": "WDmKgEYHwNFq"
      },
      "source": [
        "10"
      ]
    },
    {
      "cell_type": "code",
      "metadata": {
        "colab": {
          "base_uri": "https://localhost:8080/"
        },
        "id": "rRBcCGbAuc6v",
        "outputId": "8d6e211d-cfb6-472a-ad89-420e2acec11e"
      },
      "source": [
        "# Program to calculate and print perimeter of square given one side of the square\r\n",
        "square_side_length = 10\r\n",
        "perimeter_of_square = square_side_length * 4\r\n",
        "print(f'Perimeter of the square= {perimeter_of_square}')"
      ],
      "execution_count": null,
      "outputs": [
        {
          "output_type": "stream",
          "text": [
            "Perimeter of the square= 40\n"
          ],
          "name": "stdout"
        }
      ]
    },
    {
      "cell_type": "markdown",
      "metadata": {
        "id": "1Hg5KeqswRjb"
      },
      "source": [
        "11"
      ]
    },
    {
      "cell_type": "code",
      "metadata": {
        "colab": {
          "base_uri": "https://localhost:8080/"
        },
        "id": "ysuSQnJKutvc",
        "outputId": "5cf2cb1f-9b32-4880-a9d2-2d7e2fd47432"
      },
      "source": [
        "# Program to calculate and print perimeter of rectangle given 2 adjacent sides of the rectangle\r\n",
        "side_a = 5\r\n",
        "side_b = 10\r\n",
        "perimeter_of_rectangle = 2 * (side_a + side_b)\r\n",
        "print(f'Perimeter of the rectangle = {perimeter_of_rectangle}') "
      ],
      "execution_count": null,
      "outputs": [
        {
          "output_type": "stream",
          "text": [
            "Perimeter of the rectangle = 30\n"
          ],
          "name": "stdout"
        }
      ]
    },
    {
      "cell_type": "markdown",
      "metadata": {
        "id": "1C5U6w4uwSz8"
      },
      "source": [
        "12"
      ]
    },
    {
      "cell_type": "code",
      "metadata": {
        "colab": {
          "base_uri": "https://localhost:8080/"
        },
        "id": "dq3jNubRu9KB",
        "outputId": "934b769b-6fc5-4cef-cd68-9347dc353a45"
      },
      "source": [
        "# Program to print the perimeter of a triangle given 3 sides of the triangle\r\n",
        "side_a = 3\r\n",
        "side_b = 4\r\n",
        "side_c = 5\r\n",
        "perimeter_of_triangle = side_a + side_b + side_c\r\n",
        "print(f'Perimeter of the triangle = {perimeter_of_triangle}')"
      ],
      "execution_count": null,
      "outputs": [
        {
          "output_type": "stream",
          "text": [
            "Perimeter of the triangle = 12\n"
          ],
          "name": "stdout"
        }
      ]
    },
    {
      "cell_type": "markdown",
      "metadata": {
        "id": "fPmLo17IwUb0"
      },
      "source": [
        "13"
      ]
    },
    {
      "cell_type": "code",
      "metadata": {
        "colab": {
          "base_uri": "https://localhost:8080/"
        },
        "id": "Oj1OLLVDwaMM",
        "outputId": "f2d22161-cfd1-43b3-c3b9-2bbc08858e5c"
      },
      "source": [
        "# Function to find area of the biggest circle that can be drawn inside a square given the length of the square's side.\r\n",
        "def big_circle_area(side):\r\n",
        "    return ((22/7) * (side/2)**2)\r\n",
        "\r\n",
        "big_circle_area(14)"
      ],
      "execution_count": null,
      "outputs": [
        {
          "output_type": "execute_result",
          "data": {
            "text/plain": [
              "154.0"
            ]
          },
          "metadata": {
            "tags": []
          },
          "execution_count": 15
        }
      ]
    },
    {
      "cell_type": "markdown",
      "metadata": {
        "id": "YMH1qA4NwVSM"
      },
      "source": [
        "14"
      ]
    },
    {
      "cell_type": "code",
      "metadata": {
        "id": "LrAXzELPygfk",
        "colab": {
          "base_uri": "https://localhost:8080/",
          "height": 35
        },
        "outputId": "3e8a47d1-caf9-42c3-9a37-0498863ea71d"
      },
      "source": [
        "# Function to find if two lines are parallel given their slopes.\r\n",
        "def line_parallel_check(m1, m2):\r\n",
        "    if m1 == m2:\r\n",
        "        return \"Lines are parallel\"\r\n",
        "    else:\r\n",
        "        return \"Lines are not parallel\"\r\n",
        "\r\n",
        "line_parallel_check(0.5, 0.5)"
      ],
      "execution_count": null,
      "outputs": [
        {
          "output_type": "execute_result",
          "data": {
            "application/vnd.google.colaboratory.intrinsic+json": {
              "type": "string"
            },
            "text/plain": [
              "'Lines are parallel'"
            ]
          },
          "metadata": {
            "tags": []
          },
          "execution_count": 1
        }
      ]
    },
    {
      "cell_type": "markdown",
      "metadata": {
        "id": "FmTI4hWOwV8L"
      },
      "source": [
        "15"
      ]
    },
    {
      "cell_type": "code",
      "metadata": {
        "colab": {
          "base_uri": "https://localhost:8080/",
          "height": 35
        },
        "id": "8fBCrKhcDR40",
        "outputId": "7f9f8a05-6db9-4f68-eb99-0207de4e2703"
      },
      "source": [
        "# Function to find if two lines are perpendicular given their slopes.\r\n",
        "def line_perpendicular_check(m1, m2):\r\n",
        "    if m1 * m2 == -1:\r\n",
        "        return \"Lines are perpendicular\"\r\n",
        "    else:\r\n",
        "        return \"Lines are not perpendicular\"\r\n",
        "\r\n",
        "line_perpendicular_check(2, -0.5)"
      ],
      "execution_count": null,
      "outputs": [
        {
          "output_type": "execute_result",
          "data": {
            "application/vnd.google.colaboratory.intrinsic+json": {
              "type": "string"
            },
            "text/plain": [
              "'Lines are perpendicular'"
            ]
          },
          "metadata": {
            "tags": []
          },
          "execution_count": 2
        }
      ]
    },
    {
      "cell_type": "markdown",
      "metadata": {
        "id": "NFzQZelCwWZK"
      },
      "source": [
        "16"
      ]
    },
    {
      "cell_type": "code",
      "metadata": {
        "id": "gkeL2QMqEGAq",
        "colab": {
          "base_uri": "https://localhost:8080/"
        },
        "outputId": "722b104d-c139-4afe-d06f-1f4c9dae527d"
      },
      "source": [
        "# Calculate simple interest for given principle amount, rate and time\r\n",
        "principal_amount = 10000\r\n",
        "rate = 10\r\n",
        "time = 5\r\n",
        "simple_interest = (principal_amount * time * rate)/100\r\n",
        "simple_interest"
      ],
      "execution_count": 15,
      "outputs": [
        {
          "output_type": "execute_result",
          "data": {
            "text/plain": [
              "5000.0"
            ]
          },
          "metadata": {
            "tags": []
          },
          "execution_count": 15
        }
      ]
    },
    {
      "cell_type": "markdown",
      "metadata": {
        "id": "EmZeehgZwXb7"
      },
      "source": [
        "17"
      ]
    },
    {
      "cell_type": "code",
      "metadata": {
        "colab": {
          "base_uri": "https://localhost:8080/"
        },
        "id": "v1snfwizM7ZK",
        "outputId": "66797a25-51d2-4446-a60b-f4900c38c507"
      },
      "source": [
        "# Function to calculate standard deviation of a list of numbers\r\n",
        "def calculate_standard_deviation(test_list):\r\n",
        "    mean = sum(test_list) / len(test_list) \r\n",
        "    variance = sum([((x - mean) ** 2) for x in test_list]) / len(test_list) \r\n",
        "    res = variance ** 0.5\r\n",
        "    return res\r\n",
        "\r\n",
        "calculate_standard_deviation([-5,-4,-3,-2,-1,0,1,2,3,4,5])"
      ],
      "execution_count": 16,
      "outputs": [
        {
          "output_type": "execute_result",
          "data": {
            "text/plain": [
              "3.1622776601683795"
            ]
          },
          "metadata": {
            "tags": []
          },
          "execution_count": 16
        }
      ]
    },
    {
      "cell_type": "markdown",
      "metadata": {
        "id": "77Li4Ce3wYDi"
      },
      "source": [
        "18"
      ]
    },
    {
      "cell_type": "code",
      "metadata": {
        "colab": {
          "base_uri": "https://localhost:8080/"
        },
        "id": "W6AkuS53Nu8g",
        "outputId": "f3740cd3-d154-48a0-a2c8-5f8f2f66e6b4"
      },
      "source": [
        "# Function to calculate mean of a list of numbers\r\n",
        "def calculate_mean(test_list):\r\n",
        "    mean = sum(test_list) / len(test_list)\r\n",
        "    return mean\r\n",
        "\r\n",
        "calculate_mean([-5,-4,-3,-2,-1,0,1,2,3,4,5])"
      ],
      "execution_count": 17,
      "outputs": [
        {
          "output_type": "execute_result",
          "data": {
            "text/plain": [
              "0.0"
            ]
          },
          "metadata": {
            "tags": []
          },
          "execution_count": 17
        }
      ]
    },
    {
      "cell_type": "markdown",
      "metadata": {
        "id": "eeONi84SwYdS"
      },
      "source": [
        "19"
      ]
    },
    {
      "cell_type": "code",
      "metadata": {
        "colab": {
          "base_uri": "https://localhost:8080/"
        },
        "id": "GBseKx6bOGMq",
        "outputId": "63a083a4-2e99-4fa9-dc52-ff20ca2ea28e"
      },
      "source": [
        "# Function to calculate number of minutes in duration given in seconds\r\n",
        "def calculate_mins(duration):\r\n",
        "    minutes = duration // 60\r\n",
        "    seconds = duration - (60 * minutes)\r\n",
        "    return minutes, seconds\r\n",
        "\r\n",
        "calculate_mins(163)"
      ],
      "execution_count": 18,
      "outputs": [
        {
          "output_type": "execute_result",
          "data": {
            "text/plain": [
              "(2, 43)"
            ]
          },
          "metadata": {
            "tags": []
          },
          "execution_count": 18
        }
      ]
    },
    {
      "cell_type": "markdown",
      "metadata": {
        "id": "7HXOzNSMwZBL"
      },
      "source": [
        "20"
      ]
    },
    {
      "cell_type": "code",
      "metadata": {
        "colab": {
          "base_uri": "https://localhost:8080/"
        },
        "id": "UdDPn_F_XjFQ",
        "outputId": "93f0df59-48a2-4e52-c89e-e724d877c3e2"
      },
      "source": [
        "# Function to calculate number of rupees in given amount in paise\r\n",
        "def calculate_rupees(amount):\r\n",
        "    rupees = amount // 100\r\n",
        "    paise = amount - (100 * rupees)\r\n",
        "    return rupees, paise\r\n",
        "\r\n",
        "calculate_rupees(163)"
      ],
      "execution_count": 19,
      "outputs": [
        {
          "output_type": "execute_result",
          "data": {
            "text/plain": [
              "(1, 63)"
            ]
          },
          "metadata": {
            "tags": []
          },
          "execution_count": 19
        }
      ]
    },
    {
      "cell_type": "markdown",
      "metadata": {
        "id": "DTAlh7cz0P_W"
      },
      "source": [
        "21"
      ]
    },
    {
      "cell_type": "code",
      "metadata": {
        "colab": {
          "base_uri": "https://localhost:8080/"
        },
        "id": "fNTqfFqyYCOb",
        "outputId": "147099eb-7a2b-4152-ffa0-e30362072d4f"
      },
      "source": [
        "# Function to calculate your weight in moon\r\n",
        "def weight_in_moon(weight):\r\n",
        "    return weight * 0.165\r\n",
        "\r\n",
        "weight_in_moon(62)"
      ],
      "execution_count": 20,
      "outputs": [
        {
          "output_type": "execute_result",
          "data": {
            "text/plain": [
              "10.23"
            ]
          },
          "metadata": {
            "tags": []
          },
          "execution_count": 20
        }
      ]
    },
    {
      "cell_type": "markdown",
      "metadata": {
        "id": "lisHbhOZ0Q5-"
      },
      "source": [
        "22"
      ]
    },
    {
      "cell_type": "code",
      "metadata": {
        "colab": {
          "base_uri": "https://localhost:8080/"
        },
        "id": "xPHKOiBhnGq_",
        "outputId": "975237de-e5d3-4fc7-e0c9-b79ec7f8afc9"
      },
      "source": [
        "# Function to find if a number is a Fibonacci number or not.\r\n",
        "import math\r\n",
        "def find_fibo_2(n):\r\n",
        "    return math.sqrt(5*n**2+4).is_integer() or math.sqrt(5*n**2-4).is_integer()\r\n",
        "\r\n",
        "find_fibo_2(218922995834555169026)"
      ],
      "execution_count": 22,
      "outputs": [
        {
          "output_type": "execute_result",
          "data": {
            "text/plain": [
              "True"
            ]
          },
          "metadata": {
            "tags": []
          },
          "execution_count": 22
        }
      ]
    },
    {
      "cell_type": "markdown",
      "metadata": {
        "id": "_9yAxf1m0RQD"
      },
      "source": [
        "23"
      ]
    },
    {
      "cell_type": "code",
      "metadata": {
        "colab": {
          "base_uri": "https://localhost:8080/"
        },
        "id": "0m5lCL9dnjdC",
        "outputId": "6b9bb1b2-52a2-4024-b9bb-c55b23e27de2"
      },
      "source": [
        "# Program to strip vowels from a string\r\n",
        "vowel_stripper = [x for x in filter(lambda x: x not in ['a','e','i','o','u'],'veritaserum')]\r\n",
        "vowel_stripper"
      ],
      "execution_count": 23,
      "outputs": [
        {
          "output_type": "execute_result",
          "data": {
            "text/plain": [
              "['v', 'r', 't', 's', 'r', 'm']"
            ]
          },
          "metadata": {
            "tags": []
          },
          "execution_count": 23
        }
      ]
    },
    {
      "cell_type": "markdown",
      "metadata": {
        "id": "BJ8hwzyC0Rhs"
      },
      "source": [
        "24"
      ]
    },
    {
      "cell_type": "code",
      "metadata": {
        "colab": {
          "base_uri": "https://localhost:8080/"
        },
        "id": "K9Ol1Ru6oW5z",
        "outputId": "012e8eda-9e85-48bf-c18d-5ac14aac0c95"
      },
      "source": [
        "# Program to add every 3rd number in the list.\r\n",
        "from functools import reduce\r\n",
        "num_list = [x for x in range(1,20)]\r\n",
        "sum_every_3 = reduce(lambda x,y : x+y, [num_list[i] for i in range(len(num_list)) if (i+1)%3==0])\r\n",
        "sum_every_3"
      ],
      "execution_count": 25,
      "outputs": [
        {
          "output_type": "execute_result",
          "data": {
            "text/plain": [
              "63"
            ]
          },
          "metadata": {
            "tags": []
          },
          "execution_count": 25
        }
      ]
    },
    {
      "cell_type": "markdown",
      "metadata": {
        "id": "-t09Fcx10R2L"
      },
      "source": [
        "25"
      ]
    },
    {
      "cell_type": "code",
      "metadata": {
        "colab": {
          "base_uri": "https://localhost:8080/"
        },
        "id": "f2MTGvGrorIr",
        "outputId": "25cb6519-05e2-44fd-9523-09e8620b0f17"
      },
      "source": [
        "# Function to generate a number between 1 and 6 like a dice.\r\n",
        "import random\r\n",
        "def roll_dice():\r\n",
        "    return random.randint(1,6)\r\n",
        "roll_dice()"
      ],
      "execution_count": 32,
      "outputs": [
        {
          "output_type": "execute_result",
          "data": {
            "text/plain": [
              "3"
            ]
          },
          "metadata": {
            "tags": []
          },
          "execution_count": 32
        }
      ]
    },
    {
      "cell_type": "markdown",
      "metadata": {
        "id": "e-JAZE5I0SGE"
      },
      "source": [
        "26"
      ]
    },
    {
      "cell_type": "code",
      "metadata": {
        "colab": {
          "base_uri": "https://localhost:8080/"
        },
        "id": "MwzV3a11gGYW",
        "outputId": "ccf59518-0df4-49fd-a8b1-1e30159c418a"
      },
      "source": [
        "# Function to find if a number is divisible by 3.\r\n",
        "def divisibility_by_3(number):\r\n",
        "    sum = 0\r\n",
        "    while number > 0:\r\n",
        "        sum += number % 10\r\n",
        "        number = number//10\r\n",
        "    return True if sum % 3 == 0 else False\r\n",
        "\r\n",
        "divisibility_by_3(264)"
      ],
      "execution_count": 6,
      "outputs": [
        {
          "output_type": "execute_result",
          "data": {
            "text/plain": [
              "True"
            ]
          },
          "metadata": {
            "tags": []
          },
          "execution_count": 6
        }
      ]
    },
    {
      "cell_type": "markdown",
      "metadata": {
        "id": "I5g-JJOa0SYD"
      },
      "source": [
        "27"
      ]
    },
    {
      "cell_type": "code",
      "metadata": {
        "colab": {
          "base_uri": "https://localhost:8080/"
        },
        "id": "EUs3hC7yiwwb",
        "outputId": "a68f461c-865e-4c16-9969-e9f69db9b41b"
      },
      "source": [
        "# Function to find if a number is divisible by 4\r\n",
        "def divisibility_by_4(number):\r\n",
        "    last_two_digits = number % 100\r\n",
        "    return True if last_two_digits % 4 == 0 else False\r\n",
        "\r\n",
        "divisibility_by_4(264)"
      ],
      "execution_count": 7,
      "outputs": [
        {
          "output_type": "execute_result",
          "data": {
            "text/plain": [
              "True"
            ]
          },
          "metadata": {
            "tags": []
          },
          "execution_count": 7
        }
      ]
    },
    {
      "cell_type": "markdown",
      "metadata": {
        "id": "mrD6oLrnvpZG"
      },
      "source": [
        "28"
      ]
    },
    {
      "cell_type": "code",
      "metadata": {
        "colab": {
          "base_uri": "https://localhost:8080/"
        },
        "id": "okzMbrbE98sY",
        "outputId": "ca2eb38b-265a-4204-d318-0ce4025e91db"
      },
      "source": [
        "# Function to find if the given number is divisible by 5\r\n",
        "def divisibility_by_5(number):\r\n",
        "    last_digit = number % 10\r\n",
        "    return True if last_digit in (0,5) else False\r\n",
        "\r\n",
        "divisibility_by_5(260)"
      ],
      "execution_count": 9,
      "outputs": [
        {
          "output_type": "execute_result",
          "data": {
            "text/plain": [
              "True"
            ]
          },
          "metadata": {
            "tags": []
          },
          "execution_count": 9
        }
      ]
    },
    {
      "cell_type": "markdown",
      "metadata": {
        "id": "qgIN9gr_0Sq7"
      },
      "source": [
        "29"
      ]
    },
    {
      "cell_type": "code",
      "metadata": {
        "colab": {
          "base_uri": "https://localhost:8080/"
        },
        "id": "A2JhGCnx_Nnn",
        "outputId": "7af251b0-3b6a-4f6c-ccca-f69b30eba39f"
      },
      "source": [
        "# Function to find if the given number is divisible by 9\r\n",
        "def divisibility_by_9(number):\r\n",
        "    sum = 0\r\n",
        "    while number > 0:\r\n",
        "        sum += number % 10\r\n",
        "        number = number//10\r\n",
        "    return True if sum % 9 == 0 else False\r\n",
        "\r\n",
        "divisibility_by_9(729)"
      ],
      "execution_count": 10,
      "outputs": [
        {
          "output_type": "execute_result",
          "data": {
            "text/plain": [
              "True"
            ]
          },
          "metadata": {
            "tags": []
          },
          "execution_count": 10
        }
      ]
    },
    {
      "cell_type": "markdown",
      "metadata": {
        "id": "eaNC-Cv70TAD"
      },
      "source": [
        "30"
      ]
    },
    {
      "cell_type": "code",
      "metadata": {
        "colab": {
          "base_uri": "https://localhost:8080/"
        },
        "id": "1UQXtEMrGtoI",
        "outputId": "5f21defc-1517-4879-a868-bf16bd06e6ad"
      },
      "source": [
        "# Function to find if the number is divisible by 10\r\n",
        "def divisibility_by_10(number):\r\n",
        "    last_digit = number % 10\r\n",
        "    return True if last_digit == 0 else False\r\n",
        "\r\n",
        "divisibility_by_10(260)"
      ],
      "execution_count": 13,
      "outputs": [
        {
          "output_type": "execute_result",
          "data": {
            "text/plain": [
              "True"
            ]
          },
          "metadata": {
            "tags": []
          },
          "execution_count": 13
        }
      ]
    },
    {
      "cell_type": "markdown",
      "metadata": {
        "id": "HsF9mYeA0Tbb"
      },
      "source": [
        "31"
      ]
    },
    {
      "cell_type": "code",
      "metadata": {
        "colab": {
          "base_uri": "https://localhost:8080/"
        },
        "id": "2oG0Q7xb15M9",
        "outputId": "c2b4cb8f-3414-47d4-d042-83b2607991f5"
      },
      "source": [
        "# Function to find squares of a list of integers.\r\n",
        "def square_of_list(a):\r\n",
        "    square_list = []\r\n",
        "    for i in a:\r\n",
        "        square_list.append(i**2)\r\n",
        "    return square_list\r\n",
        "\r\n",
        "square_of_list([1,2,3,4,5])"
      ],
      "execution_count": null,
      "outputs": [
        {
          "output_type": "execute_result",
          "data": {
            "text/plain": [
              "[1, 4, 9, 16, 25]"
            ]
          },
          "metadata": {
            "tags": []
          },
          "execution_count": 16
        }
      ]
    },
    {
      "cell_type": "markdown",
      "metadata": {
        "id": "4GQKobOD0YEk"
      },
      "source": [
        "32"
      ]
    },
    {
      "cell_type": "code",
      "metadata": {
        "colab": {
          "base_uri": "https://localhost:8080/"
        },
        "id": "4Pt5aPTV0b6b",
        "outputId": "15134f60-268e-4ad4-e299-45fa28d83a7f"
      },
      "source": [
        "# Function to find the cube of a list of integers.\r\n",
        "def cube_of_list(a):\r\n",
        "    cube_list = []\r\n",
        "    for i in a:\r\n",
        "        cube_list.append(i**3)\r\n",
        "    return cube_list\r\n",
        "\r\n",
        "cube_of_list([1,2,3,4,5])"
      ],
      "execution_count": null,
      "outputs": [
        {
          "output_type": "execute_result",
          "data": {
            "text/plain": [
              "[1, 8, 27, 64, 125]"
            ]
          },
          "metadata": {
            "tags": []
          },
          "execution_count": 18
        }
      ]
    },
    {
      "cell_type": "markdown",
      "metadata": {
        "id": "9BYrJtyr0YUD"
      },
      "source": [
        "33"
      ]
    },
    {
      "cell_type": "code",
      "metadata": {
        "colab": {
          "base_uri": "https://localhost:8080/"
        },
        "id": "lsLRB906-eBI",
        "outputId": "c75e9f2d-c659-4422-dfed-bfded3f89135"
      },
      "source": [
        "# Program to print the reverse of a list.\r\n",
        "a_list = [1,2,3,'and','the']\r\n",
        "print(f'Reverse of the list is {a_list[::-1]}')"
      ],
      "execution_count": null,
      "outputs": [
        {
          "output_type": "stream",
          "text": [
            "Reverse of the list is ['the', 'and', 3, 2, 1]\n"
          ],
          "name": "stdout"
        }
      ]
    },
    {
      "cell_type": "markdown",
      "metadata": {
        "id": "wQU2g9Xj0YjD"
      },
      "source": [
        "34"
      ]
    },
    {
      "cell_type": "code",
      "metadata": {
        "colab": {
          "base_uri": "https://localhost:8080/",
          "height": 35
        },
        "id": "2hAaKqVS_BfN",
        "outputId": "4f7931d1-53d5-4acd-dd07-7db47508302b"
      },
      "source": [
        "# Function to convert a list to a string\r\n",
        "def convert_list_to_string(list_b):\r\n",
        "    return ' '.join([word for word in list_b])\r\n",
        "\r\n",
        "convert_list_to_string(['hello','how','are','you'])"
      ],
      "execution_count": null,
      "outputs": [
        {
          "output_type": "execute_result",
          "data": {
            "application/vnd.google.colaboratory.intrinsic+json": {
              "type": "string"
            },
            "text/plain": [
              "'hello how are you'"
            ]
          },
          "metadata": {
            "tags": []
          },
          "execution_count": 21
        }
      ]
    },
    {
      "cell_type": "markdown",
      "metadata": {
        "id": "offPV1ts0Yv4"
      },
      "source": [
        "35"
      ]
    },
    {
      "cell_type": "code",
      "metadata": {
        "colab": {
          "base_uri": "https://localhost:8080/"
        },
        "id": "K1iKXooG_d9O",
        "outputId": "58c25f0d-7223-41d7-d609-5e837b644396"
      },
      "source": [
        "# Function to convert a string to a list\r\n",
        "def convert_string_to_list(string_sequence):\r\n",
        "    list_c =string_sequence.split()\r\n",
        "    return list_c\r\n",
        "\r\n",
        "convert_string_to_list(\"what are you doing here\")"
      ],
      "execution_count": null,
      "outputs": [
        {
          "output_type": "execute_result",
          "data": {
            "text/plain": [
              "['what', 'are', 'you', 'doing', 'here']"
            ]
          },
          "metadata": {
            "tags": []
          },
          "execution_count": 25
        }
      ]
    },
    {
      "cell_type": "markdown",
      "metadata": {
        "id": "CBqByQCU0ZCL"
      },
      "source": [
        "36"
      ]
    },
    {
      "cell_type": "code",
      "metadata": {
        "colab": {
          "base_uri": "https://localhost:8080/"
        },
        "id": "piBpRBXtAWD3",
        "outputId": "242b14d4-c23f-46c5-cae2-e65b129fecf7"
      },
      "source": [
        "# function to return the characters of a string.\r\n",
        "def string_to_char(string_sequence):\r\n",
        "    char_list = list(string_sequence)\r\n",
        "    return char_list\r\n",
        "\r\n",
        "string_to_char(\"hello\")"
      ],
      "execution_count": null,
      "outputs": [
        {
          "output_type": "execute_result",
          "data": {
            "text/plain": [
              "['h', 'e', 'l', 'l', 'o']"
            ]
          },
          "metadata": {
            "tags": []
          },
          "execution_count": 26
        }
      ]
    },
    {
      "cell_type": "markdown",
      "metadata": {
        "id": "lOhLjRG_0ZOj"
      },
      "source": [
        "37"
      ]
    },
    {
      "cell_type": "code",
      "metadata": {
        "colab": {
          "base_uri": "https://localhost:8080/"
        },
        "id": "bOXyJ664Auw2",
        "outputId": "559eea27-342e-4ccf-b0a7-18ddea01e90d"
      },
      "source": [
        "# Program to swap two variables without temporary variable\r\n",
        "x = 'guten'\r\n",
        "y = 'morgen'\r\n",
        "x, y = y, x\r\n",
        "print('New value of x', x)\r\n",
        "print('New value of y', y)"
      ],
      "execution_count": null,
      "outputs": [
        {
          "output_type": "stream",
          "text": [
            "New value of x morgen\n",
            "New value of y guten\n"
          ],
          "name": "stdout"
        }
      ]
    },
    {
      "cell_type": "markdown",
      "metadata": {
        "id": "fMeIBrNz0Zbj"
      },
      "source": [
        "38"
      ]
    },
    {
      "cell_type": "code",
      "metadata": {
        "colab": {
          "base_uri": "https://localhost:8080/"
        },
        "id": "mJg6GYn_BmNP",
        "outputId": "f462aeb2-e1e0-493d-a30b-622e06f6d74e"
      },
      "source": [
        "# Function to count the occurence of each vowel in a word.\r\n",
        "def count_vowels(word):\r\n",
        "    vowel_dict = {}.fromkeys(['a', 'e', 'i', 'o', 'u'], 0)\r\n",
        "    for char in word:\r\n",
        "        if char in vowel_dict:\r\n",
        "            vowel_dict[char] += 1\r\n",
        "    return vowel_dict\r\n",
        "\r\n",
        "count_vowels(\"alohomora\")"
      ],
      "execution_count": null,
      "outputs": [
        {
          "output_type": "execute_result",
          "data": {
            "text/plain": [
              "{'a': 2, 'e': 0, 'i': 0, 'o': 3, 'u': 0}"
            ]
          },
          "metadata": {
            "tags": []
          },
          "execution_count": 33
        }
      ]
    },
    {
      "cell_type": "markdown",
      "metadata": {
        "id": "_d7CmIBB0Zo1"
      },
      "source": [
        "39"
      ]
    },
    {
      "cell_type": "code",
      "metadata": {
        "colab": {
          "base_uri": "https://localhost:8080/"
        },
        "id": "WFcW-0QUCAau",
        "outputId": "1dc3d64e-24ba-4bc6-9ec4-581f44395cb0"
      },
      "source": [
        "# Program to find if string is a palindrome\r\n",
        "string_sequence = 'rorberto'\r\n",
        "rev_sequence = reversed(string_sequence)\r\n",
        "\r\n",
        "if list(string_sequence) == list(rev_sequence):\r\n",
        "    print(f\"{string_sequence} is a palindrome\")\r\n",
        "else:\r\n",
        "    print(\"Its not a palindrome\")"
      ],
      "execution_count": null,
      "outputs": [
        {
          "output_type": "stream",
          "text": [
            "Its not a palindrome\n"
          ],
          "name": "stdout"
        }
      ]
    },
    {
      "cell_type": "markdown",
      "metadata": {
        "id": "zG9ZZNK_0Z3b"
      },
      "source": [
        "40"
      ]
    },
    {
      "cell_type": "code",
      "metadata": {
        "colab": {
          "base_uri": "https://localhost:8080/"
        },
        "id": "Q5AGkuGEEITI",
        "outputId": "b1313f27-7ef2-4dc6-f133-8651e87e6761"
      },
      "source": [
        "# Function to find the sum of numbers at even indices and odd indices.\r\n",
        "def sum_odd_even_indices(sequence):\r\n",
        "    odd_indice_sum = 0\r\n",
        "    even_indice_sum = 0\r\n",
        "    for i in range(len(sequence)):\r\n",
        "        if i%2 == 0:\r\n",
        "            even_indice_sum += sequence[i]\r\n",
        "        else:\r\n",
        "            odd_indice_sum += sequence[i]\r\n",
        "    return odd_indice_sum, even_indice_sum\r\n",
        "\r\n",
        "sum_odd_even_indices([1,2,1,2,1,2])"
      ],
      "execution_count": null,
      "outputs": [
        {
          "output_type": "execute_result",
          "data": {
            "text/plain": [
              "(6, 3)"
            ]
          },
          "metadata": {
            "tags": []
          },
          "execution_count": 39
        }
      ]
    },
    {
      "cell_type": "markdown",
      "metadata": {
        "id": "ceE69qUn0aF8"
      },
      "source": [
        "41"
      ]
    },
    {
      "cell_type": "code",
      "metadata": {
        "colab": {
          "base_uri": "https://localhost:8080/"
        },
        "id": "QwVWS4j1JEuB",
        "outputId": "c3b08611-58d4-4ac8-8d99-e4b9352526e8"
      },
      "source": [
        "# Function to raise the power of a number by any exponent\r\n",
        "def number_exponent(number, exponent):\r\n",
        "    return number ** exponent\r\n",
        "\r\n",
        "number_exponent(2,5)"
      ],
      "execution_count": null,
      "outputs": [
        {
          "output_type": "execute_result",
          "data": {
            "text/plain": [
              "32"
            ]
          },
          "metadata": {
            "tags": []
          },
          "execution_count": 4
        }
      ]
    },
    {
      "cell_type": "markdown",
      "metadata": {
        "id": "R7fwp7qzJvnt"
      },
      "source": [
        "42"
      ]
    },
    {
      "cell_type": "code",
      "metadata": {
        "colab": {
          "base_uri": "https://localhost:8080/",
          "height": 35
        },
        "id": "e1j8TiuAJ0N0",
        "outputId": "b209f906-1ca8-4bde-dc6a-29db0b49f7f4"
      },
      "source": [
        "# Function to strip the first and the last character in a string.\r\n",
        "def strip_first_last(sequence):\r\n",
        "    return seq[1:-1]\r\n",
        "\r\n",
        "strip_first_last('string')"
      ],
      "execution_count": null,
      "outputs": [
        {
          "output_type": "execute_result",
          "data": {
            "application/vnd.google.colaboratory.intrinsic+json": {
              "type": "string"
            },
            "text/plain": [
              "'trin'"
            ]
          },
          "metadata": {
            "tags": []
          },
          "execution_count": 8
        }
      ]
    },
    {
      "cell_type": "markdown",
      "metadata": {
        "id": "NVv3fZFzJwa6"
      },
      "source": [
        "43"
      ]
    },
    {
      "cell_type": "code",
      "metadata": {
        "colab": {
          "base_uri": "https://localhost:8080/"
        },
        "id": "LKGprh0pKApS",
        "outputId": "a3adb349-276b-4e2c-9a74-479cec8b8813"
      },
      "source": [
        "# Function to print the number of occurences of a substring within a string\r\n",
        "def substring_occurence_count(sequence, substring):\r\n",
        "    print(sequence.count(substring))\r\n",
        "\r\n",
        "substring_occurence_count('formaldehyde','de')"
      ],
      "execution_count": null,
      "outputs": [
        {
          "output_type": "stream",
          "text": [
            "2\n"
          ],
          "name": "stdout"
        }
      ]
    },
    {
      "cell_type": "markdown",
      "metadata": {
        "id": "EGH2AR_iJwvp"
      },
      "source": [
        "44"
      ]
    },
    {
      "cell_type": "code",
      "metadata": {
        "colab": {
          "base_uri": "https://localhost:8080/"
        },
        "id": "FZec8HeALfdi",
        "outputId": "4e52f686-bf52-46d9-8c0b-693e6fb3e3c5"
      },
      "source": [
        "# Function to replace a string within another string once in a sentence and print result.\r\n",
        "def replace_substring_string(sequence, substring1, substring2):\r\n",
        "    print(sequence.replace(substring1, substring2,1))\r\n",
        "\r\n",
        "replace_substring_string('lion is the king of the jungle', 'lion', 'tiger')"
      ],
      "execution_count": null,
      "outputs": [
        {
          "output_type": "stream",
          "text": [
            "tiger is the king of the jungle\n"
          ],
          "name": "stdout"
        }
      ]
    },
    {
      "cell_type": "markdown",
      "metadata": {
        "id": "Ks-QYUTTJxNr"
      },
      "source": [
        "45"
      ]
    },
    {
      "cell_type": "code",
      "metadata": {
        "colab": {
          "base_uri": "https://localhost:8080/"
        },
        "id": "PPNnJRwpLZ6e",
        "outputId": "25e6ee29-e39c-4fb5-f743-3040eda953a6"
      },
      "source": [
        "# Function to find the indices where a given character is present in a string.\r\n",
        "def find_indice_char(sequence, ch):\r\n",
        "    indice_location = []\r\n",
        "    for i in range(len(sequence)):\r\n",
        "        if sequence[i] == ch:\r\n",
        "            indice_location.append(i)\r\n",
        "    return indice_location\r\n",
        "\r\n",
        "find_indice_char('abracadabra', 'a')"
      ],
      "execution_count": null,
      "outputs": [
        {
          "output_type": "execute_result",
          "data": {
            "text/plain": [
              "[0, 3, 5, 7, 10]"
            ]
          },
          "metadata": {
            "tags": []
          },
          "execution_count": 12
        }
      ]
    },
    {
      "cell_type": "markdown",
      "metadata": {
        "id": "KGMpiFVYJxYB"
      },
      "source": [
        "46"
      ]
    },
    {
      "cell_type": "code",
      "metadata": {
        "colab": {
          "base_uri": "https://localhost:8080/",
          "height": 35
        },
        "id": "eI-IF064Ng7T",
        "outputId": "dc6fe78c-b484-4929-eae6-945a30ec0e55"
      },
      "source": [
        "# Function to get a substring from a string based on the slice indices.\r\n",
        "def get_substring_from_slice(sequence, start_index, end_index):\r\n",
        "    return sequence[start_index: end_index]\r\n",
        "\r\n",
        "get_substring_from_slice('abracadabra', 4,8)"
      ],
      "execution_count": null,
      "outputs": [
        {
          "output_type": "execute_result",
          "data": {
            "application/vnd.google.colaboratory.intrinsic+json": {
              "type": "string"
            },
            "text/plain": [
              "'cada'"
            ]
          },
          "metadata": {
            "tags": []
          },
          "execution_count": 14
        }
      ]
    },
    {
      "cell_type": "markdown",
      "metadata": {
        "id": "uyytj4JYJx_w"
      },
      "source": [
        "47"
      ]
    },
    {
      "cell_type": "code",
      "metadata": {
        "colab": {
          "base_uri": "https://localhost:8080/"
        },
        "id": "SysaIr3IOaPp",
        "outputId": "0e7176dc-088d-474b-b056-9c8a933cfe29"
      },
      "source": [
        "# Function to invert a boolean value\r\n",
        "def boolean_invert(boolean_value):\r\n",
        "    return not boolean_value\r\n",
        "\r\n",
        "boolean_invert(True)"
      ],
      "execution_count": null,
      "outputs": [
        {
          "output_type": "execute_result",
          "data": {
            "text/plain": [
              "False"
            ]
          },
          "metadata": {
            "tags": []
          },
          "execution_count": 16
        }
      ]
    },
    {
      "cell_type": "markdown",
      "metadata": {
        "id": "KcMIAJngwB7p"
      },
      "source": [
        "48"
      ]
    },
    {
      "cell_type": "code",
      "metadata": {
        "colab": {
          "base_uri": "https://localhost:8080/"
        },
        "id": "1E7ypvx5Pnib",
        "outputId": "09ce1bfa-a3f8-4eb2-d10a-5c6cb86b28d4"
      },
      "source": [
        "# Function to find the factorial of a number\r\n",
        "def number_factorial(number):\r\n",
        "    factorial = 1\r\n",
        "    if number < 0:\r\n",
        "        return None\r\n",
        "    elif number == 0:\r\n",
        "        return 1\r\n",
        "    else:\r\n",
        "        for i in range(1, number+1):\r\n",
        "            factorial = i*factorial\r\n",
        "    return factorial\r\n",
        "\r\n",
        "number_factorial(5)"
      ],
      "execution_count": null,
      "outputs": [
        {
          "output_type": "execute_result",
          "data": {
            "text/plain": [
              "120"
            ]
          },
          "metadata": {
            "tags": []
          },
          "execution_count": 20
        }
      ]
    },
    {
      "cell_type": "markdown",
      "metadata": {
        "id": "RIRtmfn0JyQh"
      },
      "source": [
        "49"
      ]
    },
    {
      "cell_type": "code",
      "metadata": {
        "colab": {
          "base_uri": "https://localhost:8080/",
          "height": 35
        },
        "id": "ETp8tWvqQuFm",
        "outputId": "27e5acf5-c02f-408e-915a-e2a06a4315f7"
      },
      "source": [
        "# Function to remove punctuations from a sentence\r\n",
        "def remove_punctuation(sequence):\r\n",
        "    punctuations = '''!()-[]{};:'\"\\,<>./?@#$%^&*_~'''\r\n",
        "    no_punct = \"\"\r\n",
        "    for char in sequence:\r\n",
        "        if char not in punctuations:\r\n",
        "            no_punct = no_punct + char\r\n",
        "    return no_punct\r\n",
        "\r\n",
        "remove_punctuation(\"hello! <sam> klingon?, where are thou$\")"
      ],
      "execution_count": null,
      "outputs": [
        {
          "output_type": "execute_result",
          "data": {
            "application/vnd.google.colaboratory.intrinsic+json": {
              "type": "string"
            },
            "text/plain": [
              "'hello sam klingon where are thou'"
            ]
          },
          "metadata": {
            "tags": []
          },
          "execution_count": 22
        }
      ]
    },
    {
      "cell_type": "markdown",
      "metadata": {
        "id": "jnKGHSM2JyfN"
      },
      "source": [
        "50"
      ]
    },
    {
      "cell_type": "code",
      "metadata": {
        "colab": {
          "base_uri": "https://localhost:8080/",
          "height": 35
        },
        "id": "QP-GqhqARdzT",
        "outputId": "b9636131-cbfb-49bd-ae13-e23ef413ecb4"
      },
      "source": [
        "# Function to repeat a sequence n number of times.\r\n",
        "def repeat_sequence(sequence, repeat_number):\r\n",
        "    return sequence*repeat_number\r\n",
        "\r\n",
        "repeat_sequence('hello', 5)"
      ],
      "execution_count": null,
      "outputs": [
        {
          "output_type": "execute_result",
          "data": {
            "application/vnd.google.colaboratory.intrinsic+json": {
              "type": "string"
            },
            "text/plain": [
              "'hellohellohellohellohello'"
            ]
          },
          "metadata": {
            "tags": []
          },
          "execution_count": 23
        }
      ]
    },
    {
      "cell_type": "markdown",
      "metadata": {
        "id": "3lAl8mYxJyvC"
      },
      "source": [
        "51"
      ]
    },
    {
      "cell_type": "code",
      "metadata": {
        "colab": {
          "base_uri": "https://localhost:8080/",
          "height": 35
        },
        "id": "B3uDa9r6TQuu",
        "outputId": "87642b64-a491-451e-c433-ed43978b30a8"
      },
      "source": [
        "# Function to write the numbers in words\r\n",
        "def numbers_in_words(number):\r\n",
        "    numbers_words = ['zero', 'one', 'two', 'three', 'four', 'five', 'six', 'seven', 'eight', 'nine']\r\n",
        "    digits = [int(x) for x in str(number)]\r\n",
        "    words = [numbers_words[digit] for digit in digits]\r\n",
        "    return \" \".join(n for n in words)\r\n",
        "\r\n",
        "numbers_in_words(2020)    "
      ],
      "execution_count": null,
      "outputs": [
        {
          "output_type": "execute_result",
          "data": {
            "application/vnd.google.colaboratory.intrinsic+json": {
              "type": "string"
            },
            "text/plain": [
              "'two zero two zero'"
            ]
          },
          "metadata": {
            "tags": []
          },
          "execution_count": 32
        }
      ]
    },
    {
      "cell_type": "markdown",
      "metadata": {
        "id": "SREqU9DuJzAY"
      },
      "source": [
        "52"
      ]
    },
    {
      "cell_type": "code",
      "metadata": {
        "colab": {
          "base_uri": "https://localhost:8080/"
        },
        "id": "C_mq6S3lUuU8",
        "outputId": "0e67c194-b16b-4393-85a4-d98c42ff92f3"
      },
      "source": [
        "# Function to write digits of numbers written in words\r\n",
        "def words_to_numbers(words):\r\n",
        "    numbers_words = ['zero', 'one', 'two', 'three', 'four', 'five', 'six', 'seven', 'eight', 'nine']\r\n",
        "    numbers = []\r\n",
        "    words = list(words.split())\r\n",
        "    for i in range(len(words)):\r\n",
        "        numbers.append(numbers_words.index(words[i]))\r\n",
        "    return numbers\r\n",
        "\r\n",
        "words_to_numbers(\"two zero two zero\")"
      ],
      "execution_count": null,
      "outputs": [
        {
          "output_type": "execute_result",
          "data": {
            "text/plain": [
              "[2, 0, 2, 0]"
            ]
          },
          "metadata": {
            "tags": []
          },
          "execution_count": 38
        }
      ]
    }
  ]
}